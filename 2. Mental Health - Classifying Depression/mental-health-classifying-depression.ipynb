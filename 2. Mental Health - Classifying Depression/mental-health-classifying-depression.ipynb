{
 "cells": [
  {
   "cell_type": "markdown",
   "id": "678ba213",
   "metadata": {
    "papermill": {
     "duration": 0.01405,
     "end_time": "2024-11-13T00:25:39.149057",
     "exception": false,
     "start_time": "2024-11-13T00:25:39.135007",
     "status": "completed"
    },
    "tags": []
   },
   "source": [
    "# **Predicting Depression**\n",
    "\n",
    "*Objective*\n",
    "The goal of this project is to develop a predictive model to identify individuals at risk of depression based on various demographic, lifestyle, academic, and socioeconomic features. This model should ultimately aid early intervention and support."
   ]
  },
  {
   "cell_type": "code",
   "execution_count": 1,
   "id": "97664fac",
   "metadata": {
    "_cell_guid": "b1076dfc-b9ad-4769-8c92-a6c4dae69d19",
    "_uuid": "8f2839f25d086af736a60e9eeb907d3b93b6e0e5",
    "execution": {
     "iopub.execute_input": "2024-11-13T00:25:39.177936Z",
     "iopub.status.busy": "2024-11-13T00:25:39.177491Z",
     "iopub.status.idle": "2024-11-13T00:25:42.637544Z",
     "shell.execute_reply": "2024-11-13T00:25:42.636047Z"
    },
    "papermill": {
     "duration": 3.477785,
     "end_time": "2024-11-13T00:25:42.639914",
     "exception": false,
     "start_time": "2024-11-13T00:25:39.162129",
     "status": "completed"
    },
    "tags": []
   },
   "outputs": [
    {
     "name": "stdout",
     "output_type": "stream",
     "text": [
      "/kaggle/input/playground-series-s4e11/sample_submission.csv\n",
      "/kaggle/input/playground-series-s4e11/train.csv\n",
      "/kaggle/input/playground-series-s4e11/test.csv\n"
     ]
    }
   ],
   "source": [
    "# This Python 3 environment comes with many helpful analytics libraries installed\n",
    "# It is defined by the kaggle/python Docker image: https://github.com/kaggle/docker-python\n",
    "# For example, here's several helpful packages to load\n",
    "\n",
    "import numpy as np # linear algebra\n",
    "import pandas as pd # data processing, CSV file I/O (e.g. pd.read_csv)\n",
    "import matplotlib.pyplot as plt\n",
    "import seaborn as sns\n",
    "from catboost import Pool, CatBoostClassifier\n",
    "from sklearn.model_selection import StratifiedKFold, train_test_split\n",
    "from sklearn.metrics import accuracy_score, f1_score, roc_auc_score\n",
    "import optuna\n",
    "from optuna.samplers import TPESampler\n",
    "\n",
    "\n",
    "# Input data files are available in the read-only \"../input/\" directory\n",
    "# For example, running this (by clicking run or pressing Shift+Enter) will list all files under the input directory\n",
    "\n",
    "import os\n",
    "for dirname, _, filenames in os.walk('/kaggle/input'):\n",
    "    for filename in filenames:\n",
    "        print(os.path.join(dirname, filename))\n",
    "\n",
    "# You can write up to 20GB to the current directory (/kaggle/working/) that gets preserved as output when you create a version using \"Save & Run All\" \n",
    "# You can also write temporary files to /kaggle/temp/, but they won't be saved outside of the current session"
   ]
  },
  {
   "cell_type": "code",
   "execution_count": 2,
   "id": "8dfd86cd",
   "metadata": {
    "execution": {
     "iopub.execute_input": "2024-11-13T00:25:42.668664Z",
     "iopub.status.busy": "2024-11-13T00:25:42.667375Z",
     "iopub.status.idle": "2024-11-13T00:25:43.564818Z",
     "shell.execute_reply": "2024-11-13T00:25:43.563748Z"
    },
    "papermill": {
     "duration": 0.914455,
     "end_time": "2024-11-13T00:25:43.567478",
     "exception": false,
     "start_time": "2024-11-13T00:25:42.653023",
     "status": "completed"
    },
    "tags": []
   },
   "outputs": [],
   "source": [
    "sample_submission = pd.read_csv(\"/kaggle/input/playground-series-s4e11/sample_submission.csv\")\n",
    "train = pd.read_csv(\"/kaggle/input/playground-series-s4e11/train.csv\")\n",
    "test = pd.read_csv(\"/kaggle/input/playground-series-s4e11/test.csv\")"
   ]
  },
  {
   "cell_type": "markdown",
   "id": "630aadde",
   "metadata": {
    "papermill": {
     "duration": 0.013002,
     "end_time": "2024-11-13T00:25:43.594321",
     "exception": false,
     "start_time": "2024-11-13T00:25:43.581319",
     "status": "completed"
    },
    "tags": []
   },
   "source": [
    "# EDA"
   ]
  },
  {
   "cell_type": "code",
   "execution_count": 3,
   "id": "eab6e4e1",
   "metadata": {
    "execution": {
     "iopub.execute_input": "2024-11-13T00:25:43.622694Z",
     "iopub.status.busy": "2024-11-13T00:25:43.621719Z",
     "iopub.status.idle": "2024-11-13T00:25:43.629552Z",
     "shell.execute_reply": "2024-11-13T00:25:43.628507Z"
    },
    "papermill": {
     "duration": 0.024414,
     "end_time": "2024-11-13T00:25:43.631730",
     "exception": false,
     "start_time": "2024-11-13T00:25:43.607316",
     "status": "completed"
    },
    "tags": []
   },
   "outputs": [
    {
     "data": {
      "text/plain": [
       "((140700, 20), (93800, 19))"
      ]
     },
     "execution_count": 3,
     "metadata": {},
     "output_type": "execute_result"
    }
   ],
   "source": [
    "train.shape , test.shape"
   ]
  },
  {
   "cell_type": "code",
   "execution_count": 4,
   "id": "d97ea8ff",
   "metadata": {
    "execution": {
     "iopub.execute_input": "2024-11-13T00:25:43.660386Z",
     "iopub.status.busy": "2024-11-13T00:25:43.659313Z",
     "iopub.status.idle": "2024-11-13T00:25:43.690827Z",
     "shell.execute_reply": "2024-11-13T00:25:43.689753Z"
    },
    "papermill": {
     "duration": 0.048343,
     "end_time": "2024-11-13T00:25:43.693272",
     "exception": false,
     "start_time": "2024-11-13T00:25:43.644929",
     "status": "completed"
    },
    "tags": []
   },
   "outputs": [
    {
     "data": {
      "text/html": [
       "<div>\n",
       "<style scoped>\n",
       "    .dataframe tbody tr th:only-of-type {\n",
       "        vertical-align: middle;\n",
       "    }\n",
       "\n",
       "    .dataframe tbody tr th {\n",
       "        vertical-align: top;\n",
       "    }\n",
       "\n",
       "    .dataframe thead th {\n",
       "        text-align: right;\n",
       "    }\n",
       "</style>\n",
       "<table border=\"1\" class=\"dataframe\">\n",
       "  <thead>\n",
       "    <tr style=\"text-align: right;\">\n",
       "      <th></th>\n",
       "      <th>id</th>\n",
       "      <th>Name</th>\n",
       "      <th>Gender</th>\n",
       "      <th>Age</th>\n",
       "      <th>City</th>\n",
       "      <th>Working Professional or Student</th>\n",
       "      <th>Profession</th>\n",
       "      <th>Academic Pressure</th>\n",
       "      <th>Work Pressure</th>\n",
       "      <th>CGPA</th>\n",
       "      <th>Study Satisfaction</th>\n",
       "      <th>Job Satisfaction</th>\n",
       "      <th>Sleep Duration</th>\n",
       "      <th>Dietary Habits</th>\n",
       "      <th>Degree</th>\n",
       "      <th>Have you ever had suicidal thoughts ?</th>\n",
       "      <th>Work/Study Hours</th>\n",
       "      <th>Financial Stress</th>\n",
       "      <th>Family History of Mental Illness</th>\n",
       "      <th>Depression</th>\n",
       "    </tr>\n",
       "  </thead>\n",
       "  <tbody>\n",
       "    <tr>\n",
       "      <th>0</th>\n",
       "      <td>0</td>\n",
       "      <td>Aaradhya</td>\n",
       "      <td>Female</td>\n",
       "      <td>49.0</td>\n",
       "      <td>Ludhiana</td>\n",
       "      <td>Working Professional</td>\n",
       "      <td>Chef</td>\n",
       "      <td>NaN</td>\n",
       "      <td>5.0</td>\n",
       "      <td>NaN</td>\n",
       "      <td>NaN</td>\n",
       "      <td>2.0</td>\n",
       "      <td>More than 8 hours</td>\n",
       "      <td>Healthy</td>\n",
       "      <td>BHM</td>\n",
       "      <td>No</td>\n",
       "      <td>1.0</td>\n",
       "      <td>2.0</td>\n",
       "      <td>No</td>\n",
       "      <td>0</td>\n",
       "    </tr>\n",
       "    <tr>\n",
       "      <th>1</th>\n",
       "      <td>1</td>\n",
       "      <td>Vivan</td>\n",
       "      <td>Male</td>\n",
       "      <td>26.0</td>\n",
       "      <td>Varanasi</td>\n",
       "      <td>Working Professional</td>\n",
       "      <td>Teacher</td>\n",
       "      <td>NaN</td>\n",
       "      <td>4.0</td>\n",
       "      <td>NaN</td>\n",
       "      <td>NaN</td>\n",
       "      <td>3.0</td>\n",
       "      <td>Less than 5 hours</td>\n",
       "      <td>Unhealthy</td>\n",
       "      <td>LLB</td>\n",
       "      <td>Yes</td>\n",
       "      <td>7.0</td>\n",
       "      <td>3.0</td>\n",
       "      <td>No</td>\n",
       "      <td>1</td>\n",
       "    </tr>\n",
       "    <tr>\n",
       "      <th>2</th>\n",
       "      <td>2</td>\n",
       "      <td>Yuvraj</td>\n",
       "      <td>Male</td>\n",
       "      <td>33.0</td>\n",
       "      <td>Visakhapatnam</td>\n",
       "      <td>Student</td>\n",
       "      <td>NaN</td>\n",
       "      <td>5.0</td>\n",
       "      <td>NaN</td>\n",
       "      <td>8.97</td>\n",
       "      <td>2.0</td>\n",
       "      <td>NaN</td>\n",
       "      <td>5-6 hours</td>\n",
       "      <td>Healthy</td>\n",
       "      <td>B.Pharm</td>\n",
       "      <td>Yes</td>\n",
       "      <td>3.0</td>\n",
       "      <td>1.0</td>\n",
       "      <td>No</td>\n",
       "      <td>1</td>\n",
       "    </tr>\n",
       "    <tr>\n",
       "      <th>3</th>\n",
       "      <td>3</td>\n",
       "      <td>Yuvraj</td>\n",
       "      <td>Male</td>\n",
       "      <td>22.0</td>\n",
       "      <td>Mumbai</td>\n",
       "      <td>Working Professional</td>\n",
       "      <td>Teacher</td>\n",
       "      <td>NaN</td>\n",
       "      <td>5.0</td>\n",
       "      <td>NaN</td>\n",
       "      <td>NaN</td>\n",
       "      <td>1.0</td>\n",
       "      <td>Less than 5 hours</td>\n",
       "      <td>Moderate</td>\n",
       "      <td>BBA</td>\n",
       "      <td>Yes</td>\n",
       "      <td>10.0</td>\n",
       "      <td>1.0</td>\n",
       "      <td>Yes</td>\n",
       "      <td>1</td>\n",
       "    </tr>\n",
       "    <tr>\n",
       "      <th>4</th>\n",
       "      <td>4</td>\n",
       "      <td>Rhea</td>\n",
       "      <td>Female</td>\n",
       "      <td>30.0</td>\n",
       "      <td>Kanpur</td>\n",
       "      <td>Working Professional</td>\n",
       "      <td>Business Analyst</td>\n",
       "      <td>NaN</td>\n",
       "      <td>1.0</td>\n",
       "      <td>NaN</td>\n",
       "      <td>NaN</td>\n",
       "      <td>1.0</td>\n",
       "      <td>5-6 hours</td>\n",
       "      <td>Unhealthy</td>\n",
       "      <td>BBA</td>\n",
       "      <td>Yes</td>\n",
       "      <td>9.0</td>\n",
       "      <td>4.0</td>\n",
       "      <td>Yes</td>\n",
       "      <td>0</td>\n",
       "    </tr>\n",
       "  </tbody>\n",
       "</table>\n",
       "</div>"
      ],
      "text/plain": [
       "   id      Name  Gender   Age           City Working Professional or Student  \\\n",
       "0   0  Aaradhya  Female  49.0       Ludhiana            Working Professional   \n",
       "1   1     Vivan    Male  26.0       Varanasi            Working Professional   \n",
       "2   2    Yuvraj    Male  33.0  Visakhapatnam                         Student   \n",
       "3   3    Yuvraj    Male  22.0         Mumbai            Working Professional   \n",
       "4   4      Rhea  Female  30.0         Kanpur            Working Professional   \n",
       "\n",
       "         Profession  Academic Pressure  Work Pressure  CGPA  \\\n",
       "0              Chef                NaN            5.0   NaN   \n",
       "1           Teacher                NaN            4.0   NaN   \n",
       "2               NaN                5.0            NaN  8.97   \n",
       "3           Teacher                NaN            5.0   NaN   \n",
       "4  Business Analyst                NaN            1.0   NaN   \n",
       "\n",
       "   Study Satisfaction  Job Satisfaction     Sleep Duration Dietary Habits  \\\n",
       "0                 NaN               2.0  More than 8 hours        Healthy   \n",
       "1                 NaN               3.0  Less than 5 hours      Unhealthy   \n",
       "2                 2.0               NaN          5-6 hours        Healthy   \n",
       "3                 NaN               1.0  Less than 5 hours       Moderate   \n",
       "4                 NaN               1.0          5-6 hours      Unhealthy   \n",
       "\n",
       "    Degree Have you ever had suicidal thoughts ?  Work/Study Hours  \\\n",
       "0      BHM                                    No               1.0   \n",
       "1      LLB                                   Yes               7.0   \n",
       "2  B.Pharm                                   Yes               3.0   \n",
       "3      BBA                                   Yes              10.0   \n",
       "4      BBA                                   Yes               9.0   \n",
       "\n",
       "   Financial Stress Family History of Mental Illness  Depression  \n",
       "0               2.0                               No           0  \n",
       "1               3.0                               No           1  \n",
       "2               1.0                               No           1  \n",
       "3               1.0                              Yes           1  \n",
       "4               4.0                              Yes           0  "
      ]
     },
     "execution_count": 4,
     "metadata": {},
     "output_type": "execute_result"
    }
   ],
   "source": [
    "train.head()"
   ]
  },
  {
   "cell_type": "code",
   "execution_count": 5,
   "id": "862eafde",
   "metadata": {
    "execution": {
     "iopub.execute_input": "2024-11-13T00:25:43.722851Z",
     "iopub.status.busy": "2024-11-13T00:25:43.721862Z",
     "iopub.status.idle": "2024-11-13T00:25:43.815067Z",
     "shell.execute_reply": "2024-11-13T00:25:43.813932Z"
    },
    "papermill": {
     "duration": 0.110713,
     "end_time": "2024-11-13T00:25:43.817615",
     "exception": false,
     "start_time": "2024-11-13T00:25:43.706902",
     "status": "completed"
    },
    "tags": []
   },
   "outputs": [
    {
     "name": "stdout",
     "output_type": "stream",
     "text": [
      "<class 'pandas.core.frame.DataFrame'>\n",
      "RangeIndex: 140700 entries, 0 to 140699\n",
      "Data columns (total 20 columns):\n",
      " #   Column                                 Non-Null Count   Dtype  \n",
      "---  ------                                 --------------   -----  \n",
      " 0   id                                     140700 non-null  int64  \n",
      " 1   Name                                   140700 non-null  object \n",
      " 2   Gender                                 140700 non-null  object \n",
      " 3   Age                                    140700 non-null  float64\n",
      " 4   City                                   140700 non-null  object \n",
      " 5   Working Professional or Student        140700 non-null  object \n",
      " 6   Profession                             104070 non-null  object \n",
      " 7   Academic Pressure                      27897 non-null   float64\n",
      " 8   Work Pressure                          112782 non-null  float64\n",
      " 9   CGPA                                   27898 non-null   float64\n",
      " 10  Study Satisfaction                     27897 non-null   float64\n",
      " 11  Job Satisfaction                       112790 non-null  float64\n",
      " 12  Sleep Duration                         140700 non-null  object \n",
      " 13  Dietary Habits                         140696 non-null  object \n",
      " 14  Degree                                 140698 non-null  object \n",
      " 15  Have you ever had suicidal thoughts ?  140700 non-null  object \n",
      " 16  Work/Study Hours                       140700 non-null  float64\n",
      " 17  Financial Stress                       140696 non-null  float64\n",
      " 18  Family History of Mental Illness       140700 non-null  object \n",
      " 19  Depression                             140700 non-null  int64  \n",
      "dtypes: float64(8), int64(2), object(10)\n",
      "memory usage: 21.5+ MB\n"
     ]
    }
   ],
   "source": [
    "train.info()"
   ]
  },
  {
   "cell_type": "code",
   "execution_count": 6,
   "id": "ab456b4b",
   "metadata": {
    "execution": {
     "iopub.execute_input": "2024-11-13T00:25:43.847432Z",
     "iopub.status.busy": "2024-11-13T00:25:43.846653Z",
     "iopub.status.idle": "2024-11-13T00:25:43.959166Z",
     "shell.execute_reply": "2024-11-13T00:25:43.958067Z"
    },
    "papermill": {
     "duration": 0.129977,
     "end_time": "2024-11-13T00:25:43.961643",
     "exception": false,
     "start_time": "2024-11-13T00:25:43.831666",
     "status": "completed"
    },
    "tags": []
   },
   "outputs": [
    {
     "data": {
      "text/plain": [
       "id                                       140700\n",
       "Name                                        422\n",
       "Gender                                        2\n",
       "Age                                          43\n",
       "City                                         98\n",
       "Working Professional or Student               2\n",
       "Profession                                   64\n",
       "Academic Pressure                             5\n",
       "Work Pressure                                 5\n",
       "CGPA                                        331\n",
       "Study Satisfaction                            5\n",
       "Job Satisfaction                              5\n",
       "Sleep Duration                               36\n",
       "Dietary Habits                               23\n",
       "Degree                                      115\n",
       "Have you ever had suicidal thoughts ?         2\n",
       "Work/Study Hours                             13\n",
       "Financial Stress                              5\n",
       "Family History of Mental Illness              2\n",
       "Depression                                    2\n",
       "dtype: int64"
      ]
     },
     "execution_count": 6,
     "metadata": {},
     "output_type": "execute_result"
    }
   ],
   "source": [
    "train.nunique()"
   ]
  },
  {
   "cell_type": "code",
   "execution_count": 7,
   "id": "10472f8b",
   "metadata": {
    "execution": {
     "iopub.execute_input": "2024-11-13T00:25:43.991710Z",
     "iopub.status.busy": "2024-11-13T00:25:43.990729Z",
     "iopub.status.idle": "2024-11-13T00:25:44.050270Z",
     "shell.execute_reply": "2024-11-13T00:25:44.048778Z"
    },
    "papermill": {
     "duration": 0.077129,
     "end_time": "2024-11-13T00:25:44.052885",
     "exception": false,
     "start_time": "2024-11-13T00:25:43.975756",
     "status": "completed"
    },
    "tags": []
   },
   "outputs": [
    {
     "name": "stdout",
     "output_type": "stream",
     "text": [
      "<class 'pandas.core.frame.DataFrame'>\n",
      "RangeIndex: 93800 entries, 0 to 93799\n",
      "Data columns (total 19 columns):\n",
      " #   Column                                 Non-Null Count  Dtype  \n",
      "---  ------                                 --------------  -----  \n",
      " 0   id                                     93800 non-null  int64  \n",
      " 1   Name                                   93800 non-null  object \n",
      " 2   Gender                                 93800 non-null  object \n",
      " 3   Age                                    93800 non-null  float64\n",
      " 4   City                                   93800 non-null  object \n",
      " 5   Working Professional or Student        93800 non-null  object \n",
      " 6   Profession                             69168 non-null  object \n",
      " 7   Academic Pressure                      18767 non-null  float64\n",
      " 8   Work Pressure                          75022 non-null  float64\n",
      " 9   CGPA                                   18766 non-null  float64\n",
      " 10  Study Satisfaction                     18767 non-null  float64\n",
      " 11  Job Satisfaction                       75026 non-null  float64\n",
      " 12  Sleep Duration                         93800 non-null  object \n",
      " 13  Dietary Habits                         93795 non-null  object \n",
      " 14  Degree                                 93798 non-null  object \n",
      " 15  Have you ever had suicidal thoughts ?  93800 non-null  object \n",
      " 16  Work/Study Hours                       93800 non-null  float64\n",
      " 17  Financial Stress                       93800 non-null  float64\n",
      " 18  Family History of Mental Illness       93800 non-null  object \n",
      "dtypes: float64(8), int64(1), object(10)\n",
      "memory usage: 13.6+ MB\n"
     ]
    }
   ],
   "source": [
    "test.info()"
   ]
  },
  {
   "cell_type": "markdown",
   "id": "61287b14",
   "metadata": {
    "papermill": {
     "duration": 0.015272,
     "end_time": "2024-11-13T00:25:44.089742",
     "exception": false,
     "start_time": "2024-11-13T00:25:44.074470",
     "status": "completed"
    },
    "tags": []
   },
   "source": [
    "We see above that both the test and train dataframes have some null values"
   ]
  },
  {
   "cell_type": "code",
   "execution_count": 8,
   "id": "514b41c7",
   "metadata": {
    "execution": {
     "iopub.execute_input": "2024-11-13T00:25:44.122695Z",
     "iopub.status.busy": "2024-11-13T00:25:44.121965Z",
     "iopub.status.idle": "2024-11-13T00:25:44.283788Z",
     "shell.execute_reply": "2024-11-13T00:25:44.282493Z"
    },
    "papermill": {
     "duration": 0.179227,
     "end_time": "2024-11-13T00:25:44.286221",
     "exception": false,
     "start_time": "2024-11-13T00:25:44.106994",
     "status": "completed"
    },
    "tags": []
   },
   "outputs": [
    {
     "name": "stdout",
     "output_type": "stream",
     "text": [
      "There are 0 duplicates in the dataset.\n"
     ]
    }
   ],
   "source": [
    "print(\"There are {} duplicates in the dataset.\".format(train.duplicated().sum()))"
   ]
  },
  {
   "cell_type": "code",
   "execution_count": 9,
   "id": "735e07ea",
   "metadata": {
    "execution": {
     "iopub.execute_input": "2024-11-13T00:25:44.315982Z",
     "iopub.status.busy": "2024-11-13T00:25:44.315549Z",
     "iopub.status.idle": "2024-11-13T00:25:44.450282Z",
     "shell.execute_reply": "2024-11-13T00:25:44.449131Z"
    },
    "papermill": {
     "duration": 0.152617,
     "end_time": "2024-11-13T00:25:44.452795",
     "exception": false,
     "start_time": "2024-11-13T00:25:44.300178",
     "status": "completed"
    },
    "tags": []
   },
   "outputs": [
    {
     "name": "stdout",
     "output_type": "stream",
     "text": [
      "Checking for percentage of missing values in each column:\n",
      "id                                        0.000000\n",
      "Name                                      0.000000\n",
      "Gender                                    0.000000\n",
      "Age                                       0.000000\n",
      "City                                      0.000000\n",
      "Working Professional or Student           0.000000\n",
      "Profession                               26.034115\n",
      "Academic Pressure                        80.172708\n",
      "Work Pressure                            19.842217\n",
      "CGPA                                     80.171997\n",
      "Study Satisfaction                       80.172708\n",
      "Job Satisfaction                         19.836532\n",
      "Sleep Duration                            0.000000\n",
      "Dietary Habits                            0.002843\n",
      "Degree                                    0.001421\n",
      "Have you ever had suicidal thoughts ?     0.000000\n",
      "Work/Study Hours                          0.000000\n",
      "Financial Stress                          0.002843\n",
      "Family History of Mental Illness          0.000000\n",
      "Depression                                0.000000\n",
      "dtype: float64 \n",
      "\n",
      "\n",
      "\n",
      "id                                        0.000000\n",
      "Name                                      0.000000\n",
      "Gender                                    0.000000\n",
      "Age                                       0.000000\n",
      "City                                      0.000000\n",
      "Working Professional or Student           0.000000\n",
      "Profession                               26.260128\n",
      "Academic Pressure                        79.992537\n",
      "Work Pressure                            20.019190\n",
      "CGPA                                     79.993603\n",
      "Study Satisfaction                       79.992537\n",
      "Job Satisfaction                         20.014925\n",
      "Sleep Duration                            0.000000\n",
      "Dietary Habits                            0.005330\n",
      "Degree                                    0.002132\n",
      "Have you ever had suicidal thoughts ?     0.000000\n",
      "Work/Study Hours                          0.000000\n",
      "Financial Stress                          0.000000\n",
      "Family History of Mental Illness          0.000000\n",
      "dtype: float64\n"
     ]
    }
   ],
   "source": [
    "print(\"Checking for percentage of missing values in each column:\")\n",
    "print(train.isnull().sum() / train.shape[0] * 100, \"\\n\\n\\n\")\n",
    "print(test.isnull().sum() / test.shape[0] * 100)"
   ]
  },
  {
   "cell_type": "markdown",
   "id": "6486b9e1",
   "metadata": {
    "papermill": {
     "duration": 0.01374,
     "end_time": "2024-11-13T00:25:44.480737",
     "exception": false,
     "start_time": "2024-11-13T00:25:44.466997",
     "status": "completed"
    },
    "tags": []
   },
   "source": [
    "we see above that approximately 80% of **Academic Pressure, CGPA, and Study Satisfaction** data has been left null in both the train and the test data. While this is a large amount of data, we should view what this data would suggest as these are the categories associated with education. We should also visualize if the rows are the problem or the column itself needs to be removed."
   ]
  },
  {
   "cell_type": "code",
   "execution_count": 10,
   "id": "3a8ee3c1",
   "metadata": {
    "execution": {
     "iopub.execute_input": "2024-11-13T00:25:44.510306Z",
     "iopub.status.busy": "2024-11-13T00:25:44.509858Z",
     "iopub.status.idle": "2024-11-13T00:25:44.612853Z",
     "shell.execute_reply": "2024-11-13T00:25:44.611768Z"
    },
    "papermill": {
     "duration": 0.120704,
     "end_time": "2024-11-13T00:25:44.615407",
     "exception": false,
     "start_time": "2024-11-13T00:25:44.494703",
     "status": "completed"
    },
    "tags": []
   },
   "outputs": [
    {
     "data": {
      "text/html": [
       "<div>\n",
       "<style scoped>\n",
       "    .dataframe tbody tr th:only-of-type {\n",
       "        vertical-align: middle;\n",
       "    }\n",
       "\n",
       "    .dataframe tbody tr th {\n",
       "        vertical-align: top;\n",
       "    }\n",
       "\n",
       "    .dataframe thead th {\n",
       "        text-align: right;\n",
       "    }\n",
       "</style>\n",
       "<table border=\"1\" class=\"dataframe\">\n",
       "  <thead>\n",
       "    <tr style=\"text-align: right;\">\n",
       "      <th></th>\n",
       "      <th>count</th>\n",
       "      <th>mean</th>\n",
       "      <th>std</th>\n",
       "      <th>min</th>\n",
       "      <th>25%</th>\n",
       "      <th>50%</th>\n",
       "      <th>75%</th>\n",
       "      <th>max</th>\n",
       "    </tr>\n",
       "  </thead>\n",
       "  <tbody>\n",
       "    <tr>\n",
       "      <th>id</th>\n",
       "      <td>140700.0</td>\n",
       "      <td>70349.500000</td>\n",
       "      <td>40616.735775</td>\n",
       "      <td>0.00</td>\n",
       "      <td>35174.75</td>\n",
       "      <td>70349.50</td>\n",
       "      <td>105524.25</td>\n",
       "      <td>140699.0</td>\n",
       "    </tr>\n",
       "    <tr>\n",
       "      <th>Age</th>\n",
       "      <td>140700.0</td>\n",
       "      <td>40.388621</td>\n",
       "      <td>12.384099</td>\n",
       "      <td>18.00</td>\n",
       "      <td>29.00</td>\n",
       "      <td>42.00</td>\n",
       "      <td>51.00</td>\n",
       "      <td>60.0</td>\n",
       "    </tr>\n",
       "    <tr>\n",
       "      <th>Academic Pressure</th>\n",
       "      <td>27897.0</td>\n",
       "      <td>3.142273</td>\n",
       "      <td>1.380457</td>\n",
       "      <td>1.00</td>\n",
       "      <td>2.00</td>\n",
       "      <td>3.00</td>\n",
       "      <td>4.00</td>\n",
       "      <td>5.0</td>\n",
       "    </tr>\n",
       "    <tr>\n",
       "      <th>Work Pressure</th>\n",
       "      <td>112782.0</td>\n",
       "      <td>2.998998</td>\n",
       "      <td>1.405771</td>\n",
       "      <td>1.00</td>\n",
       "      <td>2.00</td>\n",
       "      <td>3.00</td>\n",
       "      <td>4.00</td>\n",
       "      <td>5.0</td>\n",
       "    </tr>\n",
       "    <tr>\n",
       "      <th>CGPA</th>\n",
       "      <td>27898.0</td>\n",
       "      <td>7.658636</td>\n",
       "      <td>1.464466</td>\n",
       "      <td>5.03</td>\n",
       "      <td>6.29</td>\n",
       "      <td>7.77</td>\n",
       "      <td>8.92</td>\n",
       "      <td>10.0</td>\n",
       "    </tr>\n",
       "    <tr>\n",
       "      <th>Study Satisfaction</th>\n",
       "      <td>27897.0</td>\n",
       "      <td>2.944940</td>\n",
       "      <td>1.360197</td>\n",
       "      <td>1.00</td>\n",
       "      <td>2.00</td>\n",
       "      <td>3.00</td>\n",
       "      <td>4.00</td>\n",
       "      <td>5.0</td>\n",
       "    </tr>\n",
       "    <tr>\n",
       "      <th>Job Satisfaction</th>\n",
       "      <td>112790.0</td>\n",
       "      <td>2.974404</td>\n",
       "      <td>1.416078</td>\n",
       "      <td>1.00</td>\n",
       "      <td>2.00</td>\n",
       "      <td>3.00</td>\n",
       "      <td>4.00</td>\n",
       "      <td>5.0</td>\n",
       "    </tr>\n",
       "    <tr>\n",
       "      <th>Work/Study Hours</th>\n",
       "      <td>140700.0</td>\n",
       "      <td>6.252679</td>\n",
       "      <td>3.853615</td>\n",
       "      <td>0.00</td>\n",
       "      <td>3.00</td>\n",
       "      <td>6.00</td>\n",
       "      <td>10.00</td>\n",
       "      <td>12.0</td>\n",
       "    </tr>\n",
       "    <tr>\n",
       "      <th>Financial Stress</th>\n",
       "      <td>140696.0</td>\n",
       "      <td>2.988983</td>\n",
       "      <td>1.413633</td>\n",
       "      <td>1.00</td>\n",
       "      <td>2.00</td>\n",
       "      <td>3.00</td>\n",
       "      <td>4.00</td>\n",
       "      <td>5.0</td>\n",
       "    </tr>\n",
       "    <tr>\n",
       "      <th>Depression</th>\n",
       "      <td>140700.0</td>\n",
       "      <td>0.181713</td>\n",
       "      <td>0.385609</td>\n",
       "      <td>0.00</td>\n",
       "      <td>0.00</td>\n",
       "      <td>0.00</td>\n",
       "      <td>0.00</td>\n",
       "      <td>1.0</td>\n",
       "    </tr>\n",
       "  </tbody>\n",
       "</table>\n",
       "</div>"
      ],
      "text/plain": [
       "                       count          mean           std    min       25%  \\\n",
       "id                  140700.0  70349.500000  40616.735775   0.00  35174.75   \n",
       "Age                 140700.0     40.388621     12.384099  18.00     29.00   \n",
       "Academic Pressure    27897.0      3.142273      1.380457   1.00      2.00   \n",
       "Work Pressure       112782.0      2.998998      1.405771   1.00      2.00   \n",
       "CGPA                 27898.0      7.658636      1.464466   5.03      6.29   \n",
       "Study Satisfaction   27897.0      2.944940      1.360197   1.00      2.00   \n",
       "Job Satisfaction    112790.0      2.974404      1.416078   1.00      2.00   \n",
       "Work/Study Hours    140700.0      6.252679      3.853615   0.00      3.00   \n",
       "Financial Stress    140696.0      2.988983      1.413633   1.00      2.00   \n",
       "Depression          140700.0      0.181713      0.385609   0.00      0.00   \n",
       "\n",
       "                         50%        75%       max  \n",
       "id                  70349.50  105524.25  140699.0  \n",
       "Age                    42.00      51.00      60.0  \n",
       "Academic Pressure       3.00       4.00       5.0  \n",
       "Work Pressure           3.00       4.00       5.0  \n",
       "CGPA                    7.77       8.92      10.0  \n",
       "Study Satisfaction      3.00       4.00       5.0  \n",
       "Job Satisfaction        3.00       4.00       5.0  \n",
       "Work/Study Hours        6.00      10.00      12.0  \n",
       "Financial Stress        3.00       4.00       5.0  \n",
       "Depression              0.00       0.00       1.0  "
      ]
     },
     "execution_count": 10,
     "metadata": {},
     "output_type": "execute_result"
    }
   ],
   "source": [
    "train.describe().T"
   ]
  },
  {
   "cell_type": "code",
   "execution_count": 11,
   "id": "893007bc",
   "metadata": {
    "execution": {
     "iopub.execute_input": "2024-11-13T00:25:44.645712Z",
     "iopub.status.busy": "2024-11-13T00:25:44.645287Z",
     "iopub.status.idle": "2024-11-13T00:25:45.031896Z",
     "shell.execute_reply": "2024-11-13T00:25:45.030802Z"
    },
    "papermill": {
     "duration": 0.404621,
     "end_time": "2024-11-13T00:25:45.034325",
     "exception": false,
     "start_time": "2024-11-13T00:25:44.629704",
     "status": "completed"
    },
    "tags": []
   },
   "outputs": [
    {
     "name": "stderr",
     "output_type": "stream",
     "text": [
      "/opt/conda/lib/python3.10/site-packages/seaborn/_oldcore.py:1119: FutureWarning: use_inf_as_na option is deprecated and will be removed in a future version. Convert inf values to NaN before operating instead.\n",
      "  with pd.option_context('mode.use_inf_as_na', True):\n"
     ]
    },
    {
     "data": {
      "text/plain": [
       "<Axes: xlabel='Study Satisfaction', ylabel='Count'>"
      ]
     },
     "execution_count": 11,
     "metadata": {},
     "output_type": "execute_result"
    },
    {
     "data": {
      "image/png": "[encoded data removed]",
      "text/plain": [
       "<Figure size 640x480 with 1 Axes>"
      ]
     },
     "metadata": {},
     "output_type": "display_data"
    }
   ],
   "source": [
    "sns.histplot(x=train['Study Satisfaction'])"
   ]
  },
  {
   "cell_type": "code",
   "execution_count": 12,
   "id": "cb4a4589",
   "metadata": {
    "execution": {
     "iopub.execute_input": "2024-11-13T00:25:45.065997Z",
     "iopub.status.busy": "2024-11-13T00:25:45.065553Z",
     "iopub.status.idle": "2024-11-13T00:25:45.417458Z",
     "shell.execute_reply": "2024-11-13T00:25:45.416173Z"
    },
    "papermill": {
     "duration": 0.370557,
     "end_time": "2024-11-13T00:25:45.419902",
     "exception": false,
     "start_time": "2024-11-13T00:25:45.049345",
     "status": "completed"
    },
    "tags": []
   },
   "outputs": [
    {
     "name": "stderr",
     "output_type": "stream",
     "text": [
      "/opt/conda/lib/python3.10/site-packages/seaborn/_oldcore.py:1119: FutureWarning: use_inf_as_na option is deprecated and will be removed in a future version. Convert inf values to NaN before operating instead.\n",
      "  with pd.option_context('mode.use_inf_as_na', True):\n"
     ]
    },
    {
     "data": {
      "text/plain": [
       "<Axes: xlabel='Academic Pressure', ylabel='Count'>"
      ]
     },
     "execution_count": 12,
     "metadata": {},
     "output_type": "execute_result"
    },
    {
     "data": {
      "image/png": "[encoded data removed]",
      "text/plain": [
       "<Figure size 640x480 with 1 Axes>"
      ]
     },
     "metadata": {},
     "output_type": "display_data"
    }
   ],
   "source": [
    "sns.histplot(x=train['Academic Pressure'])"
   ]
  },
  {
   "cell_type": "code",
   "execution_count": 13,
   "id": "cc588e63",
   "metadata": {
    "execution": {
     "iopub.execute_input": "2024-11-13T00:25:45.452701Z",
     "iopub.status.busy": "2024-11-13T00:25:45.452292Z",
     "iopub.status.idle": "2024-11-13T00:25:45.849215Z",
     "shell.execute_reply": "2024-11-13T00:25:45.848035Z"
    },
    "papermill": {
     "duration": 0.416117,
     "end_time": "2024-11-13T00:25:45.851557",
     "exception": false,
     "start_time": "2024-11-13T00:25:45.435440",
     "status": "completed"
    },
    "tags": []
   },
   "outputs": [
    {
     "name": "stderr",
     "output_type": "stream",
     "text": [
      "/opt/conda/lib/python3.10/site-packages/seaborn/_oldcore.py:1119: FutureWarning: use_inf_as_na option is deprecated and will be removed in a future version. Convert inf values to NaN before operating instead.\n",
      "  with pd.option_context('mode.use_inf_as_na', True):\n"
     ]
    },
    {
     "data": {
      "text/plain": [
       "<Axes: xlabel='Work Pressure', ylabel='Count'>"
      ]
     },
     "execution_count": 13,
     "metadata": {},
     "output_type": "execute_result"
    },
    {
     "data": {
      "image/png": "[encoded data removed]",
      "text/plain": [
       "<Figure size 640x480 with 1 Axes>"
      ]
     },
     "metadata": {},
     "output_type": "display_data"
    }
   ],
   "source": [
    "sns.histplot(x=train['Work Pressure'])"
   ]
  },
  {
   "cell_type": "code",
   "execution_count": 14,
   "id": "cc18b972",
   "metadata": {
    "execution": {
     "iopub.execute_input": "2024-11-13T00:25:45.885640Z",
     "iopub.status.busy": "2024-11-13T00:25:45.884661Z",
     "iopub.status.idle": "2024-11-13T00:25:46.282911Z",
     "shell.execute_reply": "2024-11-13T00:25:46.281682Z"
    },
    "papermill": {
     "duration": 0.417697,
     "end_time": "2024-11-13T00:25:46.285219",
     "exception": false,
     "start_time": "2024-11-13T00:25:45.867522",
     "status": "completed"
    },
    "tags": []
   },
   "outputs": [
    {
     "name": "stderr",
     "output_type": "stream",
     "text": [
      "/opt/conda/lib/python3.10/site-packages/seaborn/_oldcore.py:1119: FutureWarning: use_inf_as_na option is deprecated and will be removed in a future version. Convert inf values to NaN before operating instead.\n",
      "  with pd.option_context('mode.use_inf_as_na', True):\n"
     ]
    },
    {
     "data": {
      "text/plain": [
       "<Axes: xlabel='Job Satisfaction', ylabel='Count'>"
      ]
     },
     "execution_count": 14,
     "metadata": {},
     "output_type": "execute_result"
    },
    {
     "data": {
      "image/png": "[encoded data removed]",
      "text/plain": [
       "<Figure size 640x480 with 1 Axes>"
      ]
     },
     "metadata": {},
     "output_type": "display_data"
    }
   ],
   "source": [
    "sns.histplot(x=train['Job Satisfaction'])"
   ]
  },
  {
   "cell_type": "code",
   "execution_count": 15,
   "id": "a0364804",
   "metadata": {
    "execution": {
     "iopub.execute_input": "2024-11-13T00:25:46.320149Z",
     "iopub.status.busy": "2024-11-13T00:25:46.319267Z",
     "iopub.status.idle": "2024-11-13T00:25:46.798972Z",
     "shell.execute_reply": "2024-11-13T00:25:46.797799Z"
    },
    "papermill": {
     "duration": 0.499864,
     "end_time": "2024-11-13T00:25:46.801477",
     "exception": false,
     "start_time": "2024-11-13T00:25:46.301613",
     "status": "completed"
    },
    "tags": []
   },
   "outputs": [
    {
     "name": "stderr",
     "output_type": "stream",
     "text": [
      "/opt/conda/lib/python3.10/site-packages/seaborn/_oldcore.py:1119: FutureWarning: use_inf_as_na option is deprecated and will be removed in a future version. Convert inf values to NaN before operating instead.\n",
      "  with pd.option_context('mode.use_inf_as_na', True):\n"
     ]
    },
    {
     "data": {
      "text/plain": [
       "<Axes: xlabel='Financial Stress', ylabel='Count'>"
      ]
     },
     "execution_count": 15,
     "metadata": {},
     "output_type": "execute_result"
    },
    {
     "data": {
      "image/png": "[encoded data removed]",
      "text/plain": [
       "<Figure size 640x480 with 1 Axes>"
      ]
     },
     "metadata": {},
     "output_type": "display_data"
    }
   ],
   "source": [
    "sns.histplot(x=train['Financial Stress'])"
   ]
  },
  {
   "cell_type": "code",
   "execution_count": 16,
   "id": "6fc0877e",
   "metadata": {
    "execution": {
     "iopub.execute_input": "2024-11-13T00:25:46.837594Z",
     "iopub.status.busy": "2024-11-13T00:25:46.837172Z",
     "iopub.status.idle": "2024-11-13T00:25:47.190276Z",
     "shell.execute_reply": "2024-11-13T00:25:47.188958Z"
    },
    "papermill": {
     "duration": 0.374147,
     "end_time": "2024-11-13T00:25:47.192655",
     "exception": false,
     "start_time": "2024-11-13T00:25:46.818508",
     "status": "completed"
    },
    "tags": []
   },
   "outputs": [
    {
     "name": "stderr",
     "output_type": "stream",
     "text": [
      "/opt/conda/lib/python3.10/site-packages/seaborn/_oldcore.py:1119: FutureWarning: use_inf_as_na option is deprecated and will be removed in a future version. Convert inf values to NaN before operating instead.\n",
      "  with pd.option_context('mode.use_inf_as_na', True):\n"
     ]
    },
    {
     "data": {
      "text/plain": [
       "<Axes: xlabel='Work/Study Hours', ylabel='Count'>"
      ]
     },
     "execution_count": 16,
     "metadata": {},
     "output_type": "execute_result"
    },
    {
     "data": {
      "image/png": "[encoded data removed]",
      "text/plain": [
       "<Figure size 640x480 with 1 Axes>"
      ]
     },
     "metadata": {},
     "output_type": "display_data"
    }
   ],
   "source": [
    "sns.histplot(x=train['Work/Study Hours'])"
   ]
  },
  {
   "cell_type": "markdown",
   "id": "9c4536ad",
   "metadata": {
    "papermill": {
     "duration": 0.017476,
     "end_time": "2024-11-13T00:25:47.227643",
     "exception": false,
     "start_time": "2024-11-13T00:25:47.210167",
     "status": "completed"
    },
    "tags": []
   },
   "source": [
    "# Preprocess"
   ]
  },
  {
   "cell_type": "code",
   "execution_count": 17,
   "id": "4b8aee9e",
   "metadata": {
    "execution": {
     "iopub.execute_input": "2024-11-13T00:25:47.264679Z",
     "iopub.status.busy": "2024-11-13T00:25:47.264250Z",
     "iopub.status.idle": "2024-11-13T00:25:47.433286Z",
     "shell.execute_reply": "2024-11-13T00:25:47.432132Z"
    },
    "papermill": {
     "duration": 0.190425,
     "end_time": "2024-11-13T00:25:47.435722",
     "exception": false,
     "start_time": "2024-11-13T00:25:47.245297",
     "status": "completed"
    },
    "tags": []
   },
   "outputs": [
    {
     "data": {
      "text/html": [
       "<div>\n",
       "<style scoped>\n",
       "    .dataframe tbody tr th:only-of-type {\n",
       "        vertical-align: middle;\n",
       "    }\n",
       "\n",
       "    .dataframe tbody tr th {\n",
       "        vertical-align: top;\n",
       "    }\n",
       "\n",
       "    .dataframe thead th {\n",
       "        text-align: right;\n",
       "    }\n",
       "</style>\n",
       "<table border=\"1\" class=\"dataframe\">\n",
       "  <thead>\n",
       "    <tr style=\"text-align: right;\">\n",
       "      <th></th>\n",
       "      <th>id</th>\n",
       "      <th>Name</th>\n",
       "      <th>Gender</th>\n",
       "      <th>Age</th>\n",
       "      <th>City</th>\n",
       "      <th>Working Professional or Student</th>\n",
       "      <th>Profession</th>\n",
       "      <th>Academic Pressure</th>\n",
       "      <th>Work Pressure</th>\n",
       "      <th>CGPA</th>\n",
       "      <th>Study Satisfaction</th>\n",
       "      <th>Job Satisfaction</th>\n",
       "      <th>Sleep Duration</th>\n",
       "      <th>Dietary Habits</th>\n",
       "      <th>Degree</th>\n",
       "      <th>Have you ever had suicidal thoughts ?</th>\n",
       "      <th>Work/Study Hours</th>\n",
       "      <th>Financial Stress</th>\n",
       "      <th>Family History of Mental Illness</th>\n",
       "      <th>Depression</th>\n",
       "    </tr>\n",
       "  </thead>\n",
       "  <tbody>\n",
       "    <tr>\n",
       "      <th>0</th>\n",
       "      <td>0</td>\n",
       "      <td>Aaradhya</td>\n",
       "      <td>Female</td>\n",
       "      <td>49.0</td>\n",
       "      <td>Ludhiana</td>\n",
       "      <td>Working Professional</td>\n",
       "      <td>Chef</td>\n",
       "      <td>&lt;NA&gt;</td>\n",
       "      <td>5</td>\n",
       "      <td>NaN</td>\n",
       "      <td>&lt;NA&gt;</td>\n",
       "      <td>2</td>\n",
       "      <td>More than 8 hours</td>\n",
       "      <td>Healthy</td>\n",
       "      <td>BHM</td>\n",
       "      <td>No</td>\n",
       "      <td>1</td>\n",
       "      <td>2</td>\n",
       "      <td>No</td>\n",
       "      <td>0</td>\n",
       "    </tr>\n",
       "    <tr>\n",
       "      <th>1</th>\n",
       "      <td>1</td>\n",
       "      <td>Vivan</td>\n",
       "      <td>Male</td>\n",
       "      <td>26.0</td>\n",
       "      <td>Varanasi</td>\n",
       "      <td>Working Professional</td>\n",
       "      <td>Teacher</td>\n",
       "      <td>&lt;NA&gt;</td>\n",
       "      <td>4</td>\n",
       "      <td>NaN</td>\n",
       "      <td>&lt;NA&gt;</td>\n",
       "      <td>3</td>\n",
       "      <td>Less than 5 hours</td>\n",
       "      <td>Unhealthy</td>\n",
       "      <td>LLB</td>\n",
       "      <td>Yes</td>\n",
       "      <td>7</td>\n",
       "      <td>3</td>\n",
       "      <td>No</td>\n",
       "      <td>1</td>\n",
       "    </tr>\n",
       "    <tr>\n",
       "      <th>2</th>\n",
       "      <td>2</td>\n",
       "      <td>Yuvraj</td>\n",
       "      <td>Male</td>\n",
       "      <td>33.0</td>\n",
       "      <td>Visakhapatnam</td>\n",
       "      <td>Student</td>\n",
       "      <td>NaN</td>\n",
       "      <td>5</td>\n",
       "      <td>&lt;NA&gt;</td>\n",
       "      <td>8.97</td>\n",
       "      <td>2</td>\n",
       "      <td>&lt;NA&gt;</td>\n",
       "      <td>5-6 hours</td>\n",
       "      <td>Healthy</td>\n",
       "      <td>B.Pharm</td>\n",
       "      <td>Yes</td>\n",
       "      <td>3</td>\n",
       "      <td>1</td>\n",
       "      <td>No</td>\n",
       "      <td>1</td>\n",
       "    </tr>\n",
       "    <tr>\n",
       "      <th>3</th>\n",
       "      <td>3</td>\n",
       "      <td>Yuvraj</td>\n",
       "      <td>Male</td>\n",
       "      <td>22.0</td>\n",
       "      <td>Mumbai</td>\n",
       "      <td>Working Professional</td>\n",
       "      <td>Teacher</td>\n",
       "      <td>&lt;NA&gt;</td>\n",
       "      <td>5</td>\n",
       "      <td>NaN</td>\n",
       "      <td>&lt;NA&gt;</td>\n",
       "      <td>1</td>\n",
       "      <td>Less than 5 hours</td>\n",
       "      <td>Moderate</td>\n",
       "      <td>BBA</td>\n",
       "      <td>Yes</td>\n",
       "      <td>10</td>\n",
       "      <td>1</td>\n",
       "      <td>Yes</td>\n",
       "      <td>1</td>\n",
       "    </tr>\n",
       "    <tr>\n",
       "      <th>4</th>\n",
       "      <td>4</td>\n",
       "      <td>Rhea</td>\n",
       "      <td>Female</td>\n",
       "      <td>30.0</td>\n",
       "      <td>Kanpur</td>\n",
       "      <td>Working Professional</td>\n",
       "      <td>Business Analyst</td>\n",
       "      <td>&lt;NA&gt;</td>\n",
       "      <td>1</td>\n",
       "      <td>NaN</td>\n",
       "      <td>&lt;NA&gt;</td>\n",
       "      <td>1</td>\n",
       "      <td>5-6 hours</td>\n",
       "      <td>Unhealthy</td>\n",
       "      <td>BBA</td>\n",
       "      <td>Yes</td>\n",
       "      <td>9</td>\n",
       "      <td>4</td>\n",
       "      <td>Yes</td>\n",
       "      <td>0</td>\n",
       "    </tr>\n",
       "  </tbody>\n",
       "</table>\n",
       "</div>"
      ],
      "text/plain": [
       "   id      Name  Gender   Age           City Working Professional or Student  \\\n",
       "0   0  Aaradhya  Female  49.0       Ludhiana            Working Professional   \n",
       "1   1     Vivan    Male  26.0       Varanasi            Working Professional   \n",
       "2   2    Yuvraj    Male  33.0  Visakhapatnam                         Student   \n",
       "3   3    Yuvraj    Male  22.0         Mumbai            Working Professional   \n",
       "4   4      Rhea  Female  30.0         Kanpur            Working Professional   \n",
       "\n",
       "         Profession  Academic Pressure  Work Pressure  CGPA  \\\n",
       "0              Chef               <NA>              5   NaN   \n",
       "1           Teacher               <NA>              4   NaN   \n",
       "2               NaN                  5           <NA>  8.97   \n",
       "3           Teacher               <NA>              5   NaN   \n",
       "4  Business Analyst               <NA>              1   NaN   \n",
       "\n",
       "   Study Satisfaction  Job Satisfaction     Sleep Duration Dietary Habits  \\\n",
       "0                <NA>                 2  More than 8 hours        Healthy   \n",
       "1                <NA>                 3  Less than 5 hours      Unhealthy   \n",
       "2                   2              <NA>          5-6 hours        Healthy   \n",
       "3                <NA>                 1  Less than 5 hours       Moderate   \n",
       "4                <NA>                 1          5-6 hours      Unhealthy   \n",
       "\n",
       "    Degree Have you ever had suicidal thoughts ?  Work/Study Hours  \\\n",
       "0      BHM                                    No                 1   \n",
       "1      LLB                                   Yes                 7   \n",
       "2  B.Pharm                                   Yes                 3   \n",
       "3      BBA                                   Yes                10   \n",
       "4      BBA                                   Yes                 9   \n",
       "\n",
       "   Financial Stress Family History of Mental Illness  Depression  \n",
       "0                 2                               No           0  \n",
       "1                 3                               No           1  \n",
       "2                 1                               No           1  \n",
       "3                 1                              Yes           1  \n",
       "4                 4                              Yes           0  "
      ]
     },
     "execution_count": 17,
     "metadata": {},
     "output_type": "execute_result"
    }
   ],
   "source": [
    "train['Study Satisfaction'] = pd.to_numeric(train['Study Satisfaction'], errors='coerce').astype('Int64')\n",
    "train['Academic Pressure'] = pd.to_numeric(train['Academic Pressure'], errors='coerce').astype('Int64')\n",
    "train['Work Pressure'] = pd.to_numeric(train['Work Pressure'], errors='coerce').astype('Int64')\n",
    "train['Study Satisfaction'] = pd.to_numeric(train['Study Satisfaction'], errors='coerce').astype('Int64')\n",
    "train['Job Satisfaction'] = pd.to_numeric(train['Job Satisfaction'], errors='coerce').astype('Int64')\n",
    "train['Work/Study Hours'] = pd.to_numeric(train['Work/Study Hours'], errors='coerce').astype('Int64')\n",
    "train['Financial Stress'] = pd.to_numeric(train['Financial Stress'], errors='coerce').astype('Int64')\n",
    "train.head()"
   ]
  },
  {
   "cell_type": "markdown",
   "id": "bca99127",
   "metadata": {
    "papermill": {
     "duration": 0.017378,
     "end_time": "2024-11-13T00:25:47.471319",
     "exception": false,
     "start_time": "2024-11-13T00:25:47.453941",
     "status": "completed"
    },
    "tags": []
   },
   "source": [
    "Here we convert some float columns to int as they were whole numbers. "
   ]
  },
  {
   "cell_type": "code",
   "execution_count": 18,
   "id": "4f688264",
   "metadata": {
    "execution": {
     "iopub.execute_input": "2024-11-13T00:25:47.509149Z",
     "iopub.status.busy": "2024-11-13T00:25:47.508046Z",
     "iopub.status.idle": "2024-11-13T00:25:47.586834Z",
     "shell.execute_reply": "2024-11-13T00:25:47.585664Z"
    },
    "papermill": {
     "duration": 0.100317,
     "end_time": "2024-11-13T00:25:47.589299",
     "exception": false,
     "start_time": "2024-11-13T00:25:47.488982",
     "status": "completed"
    },
    "tags": []
   },
   "outputs": [
    {
     "name": "stdout",
     "output_type": "stream",
     "text": [
      "<class 'pandas.core.frame.DataFrame'>\n",
      "RangeIndex: 140700 entries, 0 to 140699\n",
      "Data columns (total 20 columns):\n",
      " #   Column                                 Non-Null Count   Dtype  \n",
      "---  ------                                 --------------   -----  \n",
      " 0   id                                     140700 non-null  int64  \n",
      " 1   Name                                   140700 non-null  object \n",
      " 2   Gender                                 140700 non-null  object \n",
      " 3   Age                                    140700 non-null  float64\n",
      " 4   City                                   140700 non-null  object \n",
      " 5   Working Professional or Student        140700 non-null  object \n",
      " 6   Profession                             104070 non-null  object \n",
      " 7   Academic Pressure                      27897 non-null   Int64  \n",
      " 8   Work Pressure                          112782 non-null  Int64  \n",
      " 9   CGPA                                   27898 non-null   float64\n",
      " 10  Study Satisfaction                     27897 non-null   Int64  \n",
      " 11  Job Satisfaction                       112790 non-null  Int64  \n",
      " 12  Sleep Duration                         140700 non-null  object \n",
      " 13  Dietary Habits                         140696 non-null  object \n",
      " 14  Degree                                 140698 non-null  object \n",
      " 15  Have you ever had suicidal thoughts ?  140700 non-null  object \n",
      " 16  Work/Study Hours                       140700 non-null  Int64  \n",
      " 17  Financial Stress                       140696 non-null  Int64  \n",
      " 18  Family History of Mental Illness       140700 non-null  object \n",
      " 19  Depression                             140700 non-null  int64  \n",
      "dtypes: Int64(6), float64(2), int64(2), object(10)\n",
      "memory usage: 22.3+ MB\n"
     ]
    }
   ],
   "source": [
    "train.info()"
   ]
  },
  {
   "cell_type": "code",
   "execution_count": 19,
   "id": "1cb2adda",
   "metadata": {
    "execution": {
     "iopub.execute_input": "2024-11-13T00:25:47.626893Z",
     "iopub.status.busy": "2024-11-13T00:25:47.626449Z",
     "iopub.status.idle": "2024-11-13T00:25:47.783128Z",
     "shell.execute_reply": "2024-11-13T00:25:47.782038Z"
    },
    "papermill": {
     "duration": 0.178411,
     "end_time": "2024-11-13T00:25:47.785580",
     "exception": false,
     "start_time": "2024-11-13T00:25:47.607169",
     "status": "completed"
    },
    "tags": []
   },
   "outputs": [
    {
     "name": "stdout",
     "output_type": "stream",
     "text": [
      "<class 'pandas.core.frame.DataFrame'>\n",
      "RangeIndex: 93800 entries, 0 to 93799\n",
      "Data columns (total 19 columns):\n",
      " #   Column                                 Non-Null Count  Dtype  \n",
      "---  ------                                 --------------  -----  \n",
      " 0   id                                     93800 non-null  int64  \n",
      " 1   Name                                   93800 non-null  object \n",
      " 2   Gender                                 93800 non-null  object \n",
      " 3   Age                                    93800 non-null  float64\n",
      " 4   City                                   93800 non-null  object \n",
      " 5   Working Professional or Student        93800 non-null  object \n",
      " 6   Profession                             69168 non-null  object \n",
      " 7   Academic Pressure                      18767 non-null  Int64  \n",
      " 8   Work Pressure                          75022 non-null  Int64  \n",
      " 9   CGPA                                   18766 non-null  float64\n",
      " 10  Study Satisfaction                     18767 non-null  Int64  \n",
      " 11  Job Satisfaction                       75026 non-null  Int64  \n",
      " 12  Sleep Duration                         93800 non-null  object \n",
      " 13  Dietary Habits                         93795 non-null  object \n",
      " 14  Degree                                 93798 non-null  object \n",
      " 15  Have you ever had suicidal thoughts ?  93800 non-null  object \n",
      " 16  Work/Study Hours                       93800 non-null  Int64  \n",
      " 17  Financial Stress                       93800 non-null  Int64  \n",
      " 18  Family History of Mental Illness       93800 non-null  object \n",
      "dtypes: Int64(6), float64(2), int64(1), object(10)\n",
      "memory usage: 14.1+ MB\n"
     ]
    }
   ],
   "source": [
    "test['Study Satisfaction'] = pd.to_numeric(test['Study Satisfaction'], errors='coerce').astype('Int64')\n",
    "test['Academic Pressure'] = pd.to_numeric(test['Academic Pressure'], errors='coerce').astype('Int64')\n",
    "test['Work Pressure'] = pd.to_numeric(test['Work Pressure'], errors='coerce').astype('Int64')\n",
    "test['Study Satisfaction'] = pd.to_numeric(test['Study Satisfaction'], errors='coerce').astype('Int64')\n",
    "test['Job Satisfaction'] = pd.to_numeric(test['Job Satisfaction'], errors='coerce').astype('Int64')\n",
    "test['Work/Study Hours'] = pd.to_numeric(test['Work/Study Hours'], errors='coerce').astype('Int64')\n",
    "test['Financial Stress'] = pd.to_numeric(test['Financial Stress'], errors='coerce').astype('Int64')\n",
    "test.info()"
   ]
  },
  {
   "cell_type": "code",
   "execution_count": 20,
   "id": "f66241e2",
   "metadata": {
    "execution": {
     "iopub.execute_input": "2024-11-13T00:25:47.823488Z",
     "iopub.status.busy": "2024-11-13T00:25:47.823050Z",
     "iopub.status.idle": "2024-11-13T00:25:47.903447Z",
     "shell.execute_reply": "2024-11-13T00:25:47.902356Z"
    },
    "papermill": {
     "duration": 0.101881,
     "end_time": "2024-11-13T00:25:47.905662",
     "exception": false,
     "start_time": "2024-11-13T00:25:47.803781",
     "status": "completed"
    },
    "tags": []
   },
   "outputs": [
    {
     "data": {
      "text/html": [
       "<div>\n",
       "<style scoped>\n",
       "    .dataframe tbody tr th:only-of-type {\n",
       "        vertical-align: middle;\n",
       "    }\n",
       "\n",
       "    .dataframe tbody tr th {\n",
       "        vertical-align: top;\n",
       "    }\n",
       "\n",
       "    .dataframe thead th {\n",
       "        text-align: right;\n",
       "    }\n",
       "</style>\n",
       "<table border=\"1\" class=\"dataframe\">\n",
       "  <thead>\n",
       "    <tr style=\"text-align: right;\">\n",
       "      <th></th>\n",
       "      <th>id</th>\n",
       "      <th>Name</th>\n",
       "      <th>Gender</th>\n",
       "      <th>Age</th>\n",
       "      <th>City</th>\n",
       "      <th>Working Professional or Student</th>\n",
       "      <th>Profession</th>\n",
       "      <th>Academic Pressure</th>\n",
       "      <th>Work Pressure</th>\n",
       "      <th>CGPA</th>\n",
       "      <th>Study Satisfaction</th>\n",
       "      <th>Job Satisfaction</th>\n",
       "      <th>Sleep Duration</th>\n",
       "      <th>Dietary Habits</th>\n",
       "      <th>Degree</th>\n",
       "      <th>Have you ever had suicidal thoughts ?</th>\n",
       "      <th>Work/Study Hours</th>\n",
       "      <th>Financial Stress</th>\n",
       "      <th>Family History of Mental Illness</th>\n",
       "      <th>Depression</th>\n",
       "    </tr>\n",
       "  </thead>\n",
       "  <tbody>\n",
       "    <tr>\n",
       "      <th>2</th>\n",
       "      <td>2</td>\n",
       "      <td>Yuvraj</td>\n",
       "      <td>Male</td>\n",
       "      <td>33.0</td>\n",
       "      <td>Visakhapatnam</td>\n",
       "      <td>Student</td>\n",
       "      <td>NaN</td>\n",
       "      <td>5</td>\n",
       "      <td>&lt;NA&gt;</td>\n",
       "      <td>8.97</td>\n",
       "      <td>2</td>\n",
       "      <td>&lt;NA&gt;</td>\n",
       "      <td>5-6 hours</td>\n",
       "      <td>Healthy</td>\n",
       "      <td>B.Pharm</td>\n",
       "      <td>Yes</td>\n",
       "      <td>3</td>\n",
       "      <td>1</td>\n",
       "      <td>No</td>\n",
       "      <td>1</td>\n",
       "    </tr>\n",
       "    <tr>\n",
       "      <th>8</th>\n",
       "      <td>8</td>\n",
       "      <td>Aishwarya</td>\n",
       "      <td>Female</td>\n",
       "      <td>24.0</td>\n",
       "      <td>Bangalore</td>\n",
       "      <td>Student</td>\n",
       "      <td>NaN</td>\n",
       "      <td>2</td>\n",
       "      <td>&lt;NA&gt;</td>\n",
       "      <td>5.90</td>\n",
       "      <td>5</td>\n",
       "      <td>&lt;NA&gt;</td>\n",
       "      <td>5-6 hours</td>\n",
       "      <td>Moderate</td>\n",
       "      <td>BSc</td>\n",
       "      <td>No</td>\n",
       "      <td>3</td>\n",
       "      <td>2</td>\n",
       "      <td>Yes</td>\n",
       "      <td>0</td>\n",
       "    </tr>\n",
       "    <tr>\n",
       "      <th>26</th>\n",
       "      <td>26</td>\n",
       "      <td>Aditya</td>\n",
       "      <td>Male</td>\n",
       "      <td>31.0</td>\n",
       "      <td>Srinagar</td>\n",
       "      <td>Student</td>\n",
       "      <td>NaN</td>\n",
       "      <td>3</td>\n",
       "      <td>&lt;NA&gt;</td>\n",
       "      <td>7.03</td>\n",
       "      <td>5</td>\n",
       "      <td>&lt;NA&gt;</td>\n",
       "      <td>Less than 5 hours</td>\n",
       "      <td>Healthy</td>\n",
       "      <td>BA</td>\n",
       "      <td>No</td>\n",
       "      <td>9</td>\n",
       "      <td>1</td>\n",
       "      <td>Yes</td>\n",
       "      <td>0</td>\n",
       "    </tr>\n",
       "    <tr>\n",
       "      <th>30</th>\n",
       "      <td>30</td>\n",
       "      <td>Prisha</td>\n",
       "      <td>Female</td>\n",
       "      <td>28.0</td>\n",
       "      <td>Varanasi</td>\n",
       "      <td>Student</td>\n",
       "      <td>NaN</td>\n",
       "      <td>3</td>\n",
       "      <td>&lt;NA&gt;</td>\n",
       "      <td>5.59</td>\n",
       "      <td>2</td>\n",
       "      <td>&lt;NA&gt;</td>\n",
       "      <td>7-8 hours</td>\n",
       "      <td>Moderate</td>\n",
       "      <td>BCA</td>\n",
       "      <td>Yes</td>\n",
       "      <td>4</td>\n",
       "      <td>5</td>\n",
       "      <td>Yes</td>\n",
       "      <td>1</td>\n",
       "    </tr>\n",
       "    <tr>\n",
       "      <th>32</th>\n",
       "      <td>32</td>\n",
       "      <td>Chhavi</td>\n",
       "      <td>Female</td>\n",
       "      <td>25.0</td>\n",
       "      <td>Jaipur</td>\n",
       "      <td>Student</td>\n",
       "      <td>NaN</td>\n",
       "      <td>4</td>\n",
       "      <td>&lt;NA&gt;</td>\n",
       "      <td>8.13</td>\n",
       "      <td>3</td>\n",
       "      <td>&lt;NA&gt;</td>\n",
       "      <td>5-6 hours</td>\n",
       "      <td>Moderate</td>\n",
       "      <td>M.Tech</td>\n",
       "      <td>Yes</td>\n",
       "      <td>1</td>\n",
       "      <td>1</td>\n",
       "      <td>No</td>\n",
       "      <td>0</td>\n",
       "    </tr>\n",
       "  </tbody>\n",
       "</table>\n",
       "</div>"
      ],
      "text/plain": [
       "    id       Name  Gender   Age           City  \\\n",
       "2    2     Yuvraj    Male  33.0  Visakhapatnam   \n",
       "8    8  Aishwarya  Female  24.0      Bangalore   \n",
       "26  26     Aditya    Male  31.0       Srinagar   \n",
       "30  30     Prisha  Female  28.0       Varanasi   \n",
       "32  32     Chhavi  Female  25.0         Jaipur   \n",
       "\n",
       "   Working Professional or Student Profession  Academic Pressure  \\\n",
       "2                          Student        NaN                  5   \n",
       "8                          Student        NaN                  2   \n",
       "26                         Student        NaN                  3   \n",
       "30                         Student        NaN                  3   \n",
       "32                         Student        NaN                  4   \n",
       "\n",
       "    Work Pressure  CGPA  Study Satisfaction  Job Satisfaction  \\\n",
       "2            <NA>  8.97                   2              <NA>   \n",
       "8            <NA>  5.90                   5              <NA>   \n",
       "26           <NA>  7.03                   5              <NA>   \n",
       "30           <NA>  5.59                   2              <NA>   \n",
       "32           <NA>  8.13                   3              <NA>   \n",
       "\n",
       "       Sleep Duration Dietary Habits   Degree  \\\n",
       "2           5-6 hours        Healthy  B.Pharm   \n",
       "8           5-6 hours       Moderate      BSc   \n",
       "26  Less than 5 hours        Healthy       BA   \n",
       "30          7-8 hours       Moderate      BCA   \n",
       "32          5-6 hours       Moderate   M.Tech   \n",
       "\n",
       "   Have you ever had suicidal thoughts ?  Work/Study Hours  Financial Stress  \\\n",
       "2                                    Yes                 3                 1   \n",
       "8                                     No                 3                 2   \n",
       "26                                    No                 9                 1   \n",
       "30                                   Yes                 4                 5   \n",
       "32                                   Yes                 1                 1   \n",
       "\n",
       "   Family History of Mental Illness  Depression  \n",
       "2                                No           1  \n",
       "8                               Yes           0  \n",
       "26                              Yes           0  \n",
       "30                              Yes           1  \n",
       "32                               No           0  "
      ]
     },
     "execution_count": 20,
     "metadata": {},
     "output_type": "execute_result"
    }
   ],
   "source": [
    "students_train = train[train['Working Professional or Student'] == 'Student']\n",
    "professional_train = train[train['Working Professional or Student'] != 'Student']\n",
    "students_train.head()"
   ]
  },
  {
   "cell_type": "code",
   "execution_count": 21,
   "id": "a2da1783",
   "metadata": {
    "execution": {
     "iopub.execute_input": "2024-11-13T00:25:47.944005Z",
     "iopub.status.busy": "2024-11-13T00:25:47.943554Z",
     "iopub.status.idle": "2024-11-13T00:25:47.965210Z",
     "shell.execute_reply": "2024-11-13T00:25:47.964008Z"
    },
    "papermill": {
     "duration": 0.043925,
     "end_time": "2024-11-13T00:25:47.967826",
     "exception": false,
     "start_time": "2024-11-13T00:25:47.923901",
     "status": "completed"
    },
    "tags": []
   },
   "outputs": [
    {
     "data": {
      "text/html": [
       "<div>\n",
       "<style scoped>\n",
       "    .dataframe tbody tr th:only-of-type {\n",
       "        vertical-align: middle;\n",
       "    }\n",
       "\n",
       "    .dataframe tbody tr th {\n",
       "        vertical-align: top;\n",
       "    }\n",
       "\n",
       "    .dataframe thead th {\n",
       "        text-align: right;\n",
       "    }\n",
       "</style>\n",
       "<table border=\"1\" class=\"dataframe\">\n",
       "  <thead>\n",
       "    <tr style=\"text-align: right;\">\n",
       "      <th></th>\n",
       "      <th>id</th>\n",
       "      <th>Name</th>\n",
       "      <th>Gender</th>\n",
       "      <th>Age</th>\n",
       "      <th>City</th>\n",
       "      <th>Working Professional or Student</th>\n",
       "      <th>Profession</th>\n",
       "      <th>Academic Pressure</th>\n",
       "      <th>Work Pressure</th>\n",
       "      <th>CGPA</th>\n",
       "      <th>Study Satisfaction</th>\n",
       "      <th>Job Satisfaction</th>\n",
       "      <th>Sleep Duration</th>\n",
       "      <th>Dietary Habits</th>\n",
       "      <th>Degree</th>\n",
       "      <th>Have you ever had suicidal thoughts ?</th>\n",
       "      <th>Work/Study Hours</th>\n",
       "      <th>Financial Stress</th>\n",
       "      <th>Family History of Mental Illness</th>\n",
       "      <th>Depression</th>\n",
       "    </tr>\n",
       "  </thead>\n",
       "  <tbody>\n",
       "    <tr>\n",
       "      <th>0</th>\n",
       "      <td>0</td>\n",
       "      <td>Aaradhya</td>\n",
       "      <td>Female</td>\n",
       "      <td>49.0</td>\n",
       "      <td>Ludhiana</td>\n",
       "      <td>Working Professional</td>\n",
       "      <td>Chef</td>\n",
       "      <td>&lt;NA&gt;</td>\n",
       "      <td>5</td>\n",
       "      <td>NaN</td>\n",
       "      <td>&lt;NA&gt;</td>\n",
       "      <td>2</td>\n",
       "      <td>More than 8 hours</td>\n",
       "      <td>Healthy</td>\n",
       "      <td>BHM</td>\n",
       "      <td>No</td>\n",
       "      <td>1</td>\n",
       "      <td>2</td>\n",
       "      <td>No</td>\n",
       "      <td>0</td>\n",
       "    </tr>\n",
       "    <tr>\n",
       "      <th>1</th>\n",
       "      <td>1</td>\n",
       "      <td>Vivan</td>\n",
       "      <td>Male</td>\n",
       "      <td>26.0</td>\n",
       "      <td>Varanasi</td>\n",
       "      <td>Working Professional</td>\n",
       "      <td>Teacher</td>\n",
       "      <td>&lt;NA&gt;</td>\n",
       "      <td>4</td>\n",
       "      <td>NaN</td>\n",
       "      <td>&lt;NA&gt;</td>\n",
       "      <td>3</td>\n",
       "      <td>Less than 5 hours</td>\n",
       "      <td>Unhealthy</td>\n",
       "      <td>LLB</td>\n",
       "      <td>Yes</td>\n",
       "      <td>7</td>\n",
       "      <td>3</td>\n",
       "      <td>No</td>\n",
       "      <td>1</td>\n",
       "    </tr>\n",
       "    <tr>\n",
       "      <th>3</th>\n",
       "      <td>3</td>\n",
       "      <td>Yuvraj</td>\n",
       "      <td>Male</td>\n",
       "      <td>22.0</td>\n",
       "      <td>Mumbai</td>\n",
       "      <td>Working Professional</td>\n",
       "      <td>Teacher</td>\n",
       "      <td>&lt;NA&gt;</td>\n",
       "      <td>5</td>\n",
       "      <td>NaN</td>\n",
       "      <td>&lt;NA&gt;</td>\n",
       "      <td>1</td>\n",
       "      <td>Less than 5 hours</td>\n",
       "      <td>Moderate</td>\n",
       "      <td>BBA</td>\n",
       "      <td>Yes</td>\n",
       "      <td>10</td>\n",
       "      <td>1</td>\n",
       "      <td>Yes</td>\n",
       "      <td>1</td>\n",
       "    </tr>\n",
       "    <tr>\n",
       "      <th>4</th>\n",
       "      <td>4</td>\n",
       "      <td>Rhea</td>\n",
       "      <td>Female</td>\n",
       "      <td>30.0</td>\n",
       "      <td>Kanpur</td>\n",
       "      <td>Working Professional</td>\n",
       "      <td>Business Analyst</td>\n",
       "      <td>&lt;NA&gt;</td>\n",
       "      <td>1</td>\n",
       "      <td>NaN</td>\n",
       "      <td>&lt;NA&gt;</td>\n",
       "      <td>1</td>\n",
       "      <td>5-6 hours</td>\n",
       "      <td>Unhealthy</td>\n",
       "      <td>BBA</td>\n",
       "      <td>Yes</td>\n",
       "      <td>9</td>\n",
       "      <td>4</td>\n",
       "      <td>Yes</td>\n",
       "      <td>0</td>\n",
       "    </tr>\n",
       "    <tr>\n",
       "      <th>5</th>\n",
       "      <td>5</td>\n",
       "      <td>Vani</td>\n",
       "      <td>Female</td>\n",
       "      <td>59.0</td>\n",
       "      <td>Ahmedabad</td>\n",
       "      <td>Working Professional</td>\n",
       "      <td>Finanancial Analyst</td>\n",
       "      <td>&lt;NA&gt;</td>\n",
       "      <td>2</td>\n",
       "      <td>NaN</td>\n",
       "      <td>&lt;NA&gt;</td>\n",
       "      <td>5</td>\n",
       "      <td>5-6 hours</td>\n",
       "      <td>Healthy</td>\n",
       "      <td>MCA</td>\n",
       "      <td>No</td>\n",
       "      <td>7</td>\n",
       "      <td>5</td>\n",
       "      <td>No</td>\n",
       "      <td>0</td>\n",
       "    </tr>\n",
       "  </tbody>\n",
       "</table>\n",
       "</div>"
      ],
      "text/plain": [
       "   id      Name  Gender   Age       City Working Professional or Student  \\\n",
       "0   0  Aaradhya  Female  49.0   Ludhiana            Working Professional   \n",
       "1   1     Vivan    Male  26.0   Varanasi            Working Professional   \n",
       "3   3    Yuvraj    Male  22.0     Mumbai            Working Professional   \n",
       "4   4      Rhea  Female  30.0     Kanpur            Working Professional   \n",
       "5   5      Vani  Female  59.0  Ahmedabad            Working Professional   \n",
       "\n",
       "            Profession  Academic Pressure  Work Pressure  CGPA  \\\n",
       "0                 Chef               <NA>              5   NaN   \n",
       "1              Teacher               <NA>              4   NaN   \n",
       "3              Teacher               <NA>              5   NaN   \n",
       "4     Business Analyst               <NA>              1   NaN   \n",
       "5  Finanancial Analyst               <NA>              2   NaN   \n",
       "\n",
       "   Study Satisfaction  Job Satisfaction     Sleep Duration Dietary Habits  \\\n",
       "0                <NA>                 2  More than 8 hours        Healthy   \n",
       "1                <NA>                 3  Less than 5 hours      Unhealthy   \n",
       "3                <NA>                 1  Less than 5 hours       Moderate   \n",
       "4                <NA>                 1          5-6 hours      Unhealthy   \n",
       "5                <NA>                 5          5-6 hours        Healthy   \n",
       "\n",
       "  Degree Have you ever had suicidal thoughts ?  Work/Study Hours  \\\n",
       "0    BHM                                    No                 1   \n",
       "1    LLB                                   Yes                 7   \n",
       "3    BBA                                   Yes                10   \n",
       "4    BBA                                   Yes                 9   \n",
       "5    MCA                                    No                 7   \n",
       "\n",
       "   Financial Stress Family History of Mental Illness  Depression  \n",
       "0                 2                               No           0  \n",
       "1                 3                               No           1  \n",
       "3                 1                              Yes           1  \n",
       "4                 4                              Yes           0  \n",
       "5                 5                               No           0  "
      ]
     },
     "execution_count": 21,
     "metadata": {},
     "output_type": "execute_result"
    }
   ],
   "source": [
    "professional_train.head()"
   ]
  },
  {
   "cell_type": "markdown",
   "id": "ae30606f",
   "metadata": {
    "papermill": {
     "duration": 0.01849,
     "end_time": "2024-11-13T00:25:48.004941",
     "exception": false,
     "start_time": "2024-11-13T00:25:47.986451",
     "status": "completed"
    },
    "tags": []
   },
   "source": [
    "Here we see that the absence of data is due to whether the person is a student or a professional. Professionals do not have CGPAs and Students do not have work pressure. Therefore we may attempt to manipulate the data accordingly. We can first combine the pressure columns and the satisfaction columns. "
   ]
  },
  {
   "cell_type": "code",
   "execution_count": 22,
   "id": "b5ecf97d",
   "metadata": {
    "execution": {
     "iopub.execute_input": "2024-11-13T00:25:48.044540Z",
     "iopub.status.busy": "2024-11-13T00:25:48.044124Z",
     "iopub.status.idle": "2024-11-13T00:25:48.062638Z",
     "shell.execute_reply": "2024-11-13T00:25:48.061646Z"
    },
    "papermill": {
     "duration": 0.041147,
     "end_time": "2024-11-13T00:25:48.065276",
     "exception": false,
     "start_time": "2024-11-13T00:25:48.024129",
     "status": "completed"
    },
    "tags": []
   },
   "outputs": [],
   "source": [
    "train['Pressure'] = train['Academic Pressure'].combine_first(train['Work Pressure'])\n",
    "train['Satisfaction'] = train['Study Satisfaction'].combine_first(train['Job Satisfaction'])"
   ]
  },
  {
   "cell_type": "code",
   "execution_count": 23,
   "id": "538c3b64",
   "metadata": {
    "execution": {
     "iopub.execute_input": "2024-11-13T00:25:48.106455Z",
     "iopub.status.busy": "2024-11-13T00:25:48.106027Z",
     "iopub.status.idle": "2024-11-13T00:25:48.137433Z",
     "shell.execute_reply": "2024-11-13T00:25:48.136270Z"
    },
    "papermill": {
     "duration": 0.055783,
     "end_time": "2024-11-13T00:25:48.140018",
     "exception": false,
     "start_time": "2024-11-13T00:25:48.084235",
     "status": "completed"
    },
    "tags": []
   },
   "outputs": [],
   "source": [
    "train = train.drop(columns=['Academic Pressure', 'Work Pressure', 'Study Satisfaction', 'Job Satisfaction'])"
   ]
  },
  {
   "cell_type": "code",
   "execution_count": 24,
   "id": "54b21a8e",
   "metadata": {
    "execution": {
     "iopub.execute_input": "2024-11-13T00:25:48.178905Z",
     "iopub.status.busy": "2024-11-13T00:25:48.178449Z",
     "iopub.status.idle": "2024-11-13T00:25:48.199559Z",
     "shell.execute_reply": "2024-11-13T00:25:48.198542Z"
    },
    "papermill": {
     "duration": 0.043538,
     "end_time": "2024-11-13T00:25:48.202040",
     "exception": false,
     "start_time": "2024-11-13T00:25:48.158502",
     "status": "completed"
    },
    "tags": []
   },
   "outputs": [
    {
     "data": {
      "text/html": [
       "<div>\n",
       "<style scoped>\n",
       "    .dataframe tbody tr th:only-of-type {\n",
       "        vertical-align: middle;\n",
       "    }\n",
       "\n",
       "    .dataframe tbody tr th {\n",
       "        vertical-align: top;\n",
       "    }\n",
       "\n",
       "    .dataframe thead th {\n",
       "        text-align: right;\n",
       "    }\n",
       "</style>\n",
       "<table border=\"1\" class=\"dataframe\">\n",
       "  <thead>\n",
       "    <tr style=\"text-align: right;\">\n",
       "      <th></th>\n",
       "      <th>id</th>\n",
       "      <th>Name</th>\n",
       "      <th>Gender</th>\n",
       "      <th>Age</th>\n",
       "      <th>City</th>\n",
       "      <th>Working Professional or Student</th>\n",
       "      <th>Profession</th>\n",
       "      <th>CGPA</th>\n",
       "      <th>Sleep Duration</th>\n",
       "      <th>Dietary Habits</th>\n",
       "      <th>Degree</th>\n",
       "      <th>Have you ever had suicidal thoughts ?</th>\n",
       "      <th>Work/Study Hours</th>\n",
       "      <th>Financial Stress</th>\n",
       "      <th>Family History of Mental Illness</th>\n",
       "      <th>Depression</th>\n",
       "      <th>Pressure</th>\n",
       "      <th>Satisfaction</th>\n",
       "    </tr>\n",
       "  </thead>\n",
       "  <tbody>\n",
       "    <tr>\n",
       "      <th>0</th>\n",
       "      <td>0</td>\n",
       "      <td>Aaradhya</td>\n",
       "      <td>Female</td>\n",
       "      <td>49.0</td>\n",
       "      <td>Ludhiana</td>\n",
       "      <td>Working Professional</td>\n",
       "      <td>Chef</td>\n",
       "      <td>NaN</td>\n",
       "      <td>More than 8 hours</td>\n",
       "      <td>Healthy</td>\n",
       "      <td>BHM</td>\n",
       "      <td>No</td>\n",
       "      <td>1</td>\n",
       "      <td>2</td>\n",
       "      <td>No</td>\n",
       "      <td>0</td>\n",
       "      <td>5</td>\n",
       "      <td>2</td>\n",
       "    </tr>\n",
       "    <tr>\n",
       "      <th>1</th>\n",
       "      <td>1</td>\n",
       "      <td>Vivan</td>\n",
       "      <td>Male</td>\n",
       "      <td>26.0</td>\n",
       "      <td>Varanasi</td>\n",
       "      <td>Working Professional</td>\n",
       "      <td>Teacher</td>\n",
       "      <td>NaN</td>\n",
       "      <td>Less than 5 hours</td>\n",
       "      <td>Unhealthy</td>\n",
       "      <td>LLB</td>\n",
       "      <td>Yes</td>\n",
       "      <td>7</td>\n",
       "      <td>3</td>\n",
       "      <td>No</td>\n",
       "      <td>1</td>\n",
       "      <td>4</td>\n",
       "      <td>3</td>\n",
       "    </tr>\n",
       "    <tr>\n",
       "      <th>2</th>\n",
       "      <td>2</td>\n",
       "      <td>Yuvraj</td>\n",
       "      <td>Male</td>\n",
       "      <td>33.0</td>\n",
       "      <td>Visakhapatnam</td>\n",
       "      <td>Student</td>\n",
       "      <td>NaN</td>\n",
       "      <td>8.97</td>\n",
       "      <td>5-6 hours</td>\n",
       "      <td>Healthy</td>\n",
       "      <td>B.Pharm</td>\n",
       "      <td>Yes</td>\n",
       "      <td>3</td>\n",
       "      <td>1</td>\n",
       "      <td>No</td>\n",
       "      <td>1</td>\n",
       "      <td>5</td>\n",
       "      <td>2</td>\n",
       "    </tr>\n",
       "    <tr>\n",
       "      <th>3</th>\n",
       "      <td>3</td>\n",
       "      <td>Yuvraj</td>\n",
       "      <td>Male</td>\n",
       "      <td>22.0</td>\n",
       "      <td>Mumbai</td>\n",
       "      <td>Working Professional</td>\n",
       "      <td>Teacher</td>\n",
       "      <td>NaN</td>\n",
       "      <td>Less than 5 hours</td>\n",
       "      <td>Moderate</td>\n",
       "      <td>BBA</td>\n",
       "      <td>Yes</td>\n",
       "      <td>10</td>\n",
       "      <td>1</td>\n",
       "      <td>Yes</td>\n",
       "      <td>1</td>\n",
       "      <td>5</td>\n",
       "      <td>1</td>\n",
       "    </tr>\n",
       "    <tr>\n",
       "      <th>4</th>\n",
       "      <td>4</td>\n",
       "      <td>Rhea</td>\n",
       "      <td>Female</td>\n",
       "      <td>30.0</td>\n",
       "      <td>Kanpur</td>\n",
       "      <td>Working Professional</td>\n",
       "      <td>Business Analyst</td>\n",
       "      <td>NaN</td>\n",
       "      <td>5-6 hours</td>\n",
       "      <td>Unhealthy</td>\n",
       "      <td>BBA</td>\n",
       "      <td>Yes</td>\n",
       "      <td>9</td>\n",
       "      <td>4</td>\n",
       "      <td>Yes</td>\n",
       "      <td>0</td>\n",
       "      <td>1</td>\n",
       "      <td>1</td>\n",
       "    </tr>\n",
       "  </tbody>\n",
       "</table>\n",
       "</div>"
      ],
      "text/plain": [
       "   id      Name  Gender   Age           City Working Professional or Student  \\\n",
       "0   0  Aaradhya  Female  49.0       Ludhiana            Working Professional   \n",
       "1   1     Vivan    Male  26.0       Varanasi            Working Professional   \n",
       "2   2    Yuvraj    Male  33.0  Visakhapatnam                         Student   \n",
       "3   3    Yuvraj    Male  22.0         Mumbai            Working Professional   \n",
       "4   4      Rhea  Female  30.0         Kanpur            Working Professional   \n",
       "\n",
       "         Profession  CGPA     Sleep Duration Dietary Habits   Degree  \\\n",
       "0              Chef   NaN  More than 8 hours        Healthy      BHM   \n",
       "1           Teacher   NaN  Less than 5 hours      Unhealthy      LLB   \n",
       "2               NaN  8.97          5-6 hours        Healthy  B.Pharm   \n",
       "3           Teacher   NaN  Less than 5 hours       Moderate      BBA   \n",
       "4  Business Analyst   NaN          5-6 hours      Unhealthy      BBA   \n",
       "\n",
       "  Have you ever had suicidal thoughts ?  Work/Study Hours  Financial Stress  \\\n",
       "0                                    No                 1                 2   \n",
       "1                                   Yes                 7                 3   \n",
       "2                                   Yes                 3                 1   \n",
       "3                                   Yes                10                 1   \n",
       "4                                   Yes                 9                 4   \n",
       "\n",
       "  Family History of Mental Illness  Depression  Pressure  Satisfaction  \n",
       "0                               No           0         5             2  \n",
       "1                               No           1         4             3  \n",
       "2                               No           1         5             2  \n",
       "3                              Yes           1         5             1  \n",
       "4                              Yes           0         1             1  "
      ]
     },
     "execution_count": 24,
     "metadata": {},
     "output_type": "execute_result"
    }
   ],
   "source": [
    "train.head()"
   ]
  },
  {
   "cell_type": "code",
   "execution_count": 25,
   "id": "aa93d733",
   "metadata": {
    "execution": {
     "iopub.execute_input": "2024-11-13T00:25:48.241938Z",
     "iopub.status.busy": "2024-11-13T00:25:48.241469Z",
     "iopub.status.idle": "2024-11-13T00:25:48.321609Z",
     "shell.execute_reply": "2024-11-13T00:25:48.320373Z"
    },
    "papermill": {
     "duration": 0.102895,
     "end_time": "2024-11-13T00:25:48.324112",
     "exception": false,
     "start_time": "2024-11-13T00:25:48.221217",
     "status": "completed"
    },
    "tags": []
   },
   "outputs": [
    {
     "name": "stdout",
     "output_type": "stream",
     "text": [
      "<class 'pandas.core.frame.DataFrame'>\n",
      "RangeIndex: 140700 entries, 0 to 140699\n",
      "Data columns (total 18 columns):\n",
      " #   Column                                 Non-Null Count   Dtype  \n",
      "---  ------                                 --------------   -----  \n",
      " 0   id                                     140700 non-null  int64  \n",
      " 1   Name                                   140700 non-null  object \n",
      " 2   Gender                                 140700 non-null  object \n",
      " 3   Age                                    140700 non-null  float64\n",
      " 4   City                                   140700 non-null  object \n",
      " 5   Working Professional or Student        140700 non-null  object \n",
      " 6   Profession                             104070 non-null  object \n",
      " 7   CGPA                                   27898 non-null   float64\n",
      " 8   Sleep Duration                         140700 non-null  object \n",
      " 9   Dietary Habits                         140696 non-null  object \n",
      " 10  Degree                                 140698 non-null  object \n",
      " 11  Have you ever had suicidal thoughts ?  140700 non-null  object \n",
      " 12  Work/Study Hours                       140700 non-null  Int64  \n",
      " 13  Financial Stress                       140696 non-null  Int64  \n",
      " 14  Family History of Mental Illness       140700 non-null  object \n",
      " 15  Depression                             140700 non-null  int64  \n",
      " 16  Pressure                               140679 non-null  Int64  \n",
      " 17  Satisfaction                           140685 non-null  Int64  \n",
      "dtypes: Int64(4), float64(2), int64(2), object(10)\n",
      "memory usage: 19.9+ MB\n"
     ]
    }
   ],
   "source": [
    "train.info()"
   ]
  },
  {
   "cell_type": "markdown",
   "id": "20418815",
   "metadata": {
    "papermill": {
     "duration": 0.018705,
     "end_time": "2024-11-13T00:25:48.362183",
     "exception": false,
     "start_time": "2024-11-13T00:25:48.343478",
     "status": "completed"
    },
    "tags": []
   },
   "source": [
    "Now that we have combined the pressure and satisfaction columns, we can move on to the remaining columns with extensive null values: CGPA and Profession. We also have a few null values in dietary habits, degree, financial stress, pressure, and satisfaction columns.\n",
    "\n",
    "Given the significant loss of data in the CGPA, it may be efficient to simply disregard the column rather than imputing values."
   ]
  },
  {
   "cell_type": "code",
   "execution_count": 26,
   "id": "19ae3afa",
   "metadata": {
    "execution": {
     "iopub.execute_input": "2024-11-13T00:25:48.401685Z",
     "iopub.status.busy": "2024-11-13T00:25:48.401282Z",
     "iopub.status.idle": "2024-11-13T00:25:48.428460Z",
     "shell.execute_reply": "2024-11-13T00:25:48.427136Z"
    },
    "papermill": {
     "duration": 0.049882,
     "end_time": "2024-11-13T00:25:48.431040",
     "exception": false,
     "start_time": "2024-11-13T00:25:48.381158",
     "status": "completed"
    },
    "tags": []
   },
   "outputs": [],
   "source": [
    "train = train.drop(columns=['CGPA'])"
   ]
  },
  {
   "cell_type": "code",
   "execution_count": 27,
   "id": "25f390e0",
   "metadata": {
    "execution": {
     "iopub.execute_input": "2024-11-13T00:25:48.470436Z",
     "iopub.status.busy": "2024-11-13T00:25:48.469665Z",
     "iopub.status.idle": "2024-11-13T00:25:48.565121Z",
     "shell.execute_reply": "2024-11-13T00:25:48.563955Z"
    },
    "papermill": {
     "duration": 0.117934,
     "end_time": "2024-11-13T00:25:48.567678",
     "exception": false,
     "start_time": "2024-11-13T00:25:48.449744",
     "status": "completed"
    },
    "tags": []
   },
   "outputs": [
    {
     "name": "stdout",
     "output_type": "stream",
     "text": [
      "<class 'pandas.core.frame.DataFrame'>\n",
      "RangeIndex: 140700 entries, 0 to 140699\n",
      "Data columns (total 17 columns):\n",
      " #   Column                                 Non-Null Count   Dtype  \n",
      "---  ------                                 --------------   -----  \n",
      " 0   id                                     140700 non-null  int64  \n",
      " 1   Name                                   140700 non-null  object \n",
      " 2   Gender                                 140700 non-null  object \n",
      " 3   Age                                    140700 non-null  float64\n",
      " 4   City                                   140700 non-null  object \n",
      " 5   Working Professional or Student        140700 non-null  object \n",
      " 6   Profession                             104070 non-null  object \n",
      " 7   Sleep Duration                         140700 non-null  object \n",
      " 8   Dietary Habits                         140696 non-null  object \n",
      " 9   Degree                                 140698 non-null  object \n",
      " 10  Have you ever had suicidal thoughts ?  140700 non-null  object \n",
      " 11  Work/Study Hours                       140700 non-null  Int64  \n",
      " 12  Financial Stress                       140696 non-null  Int64  \n",
      " 13  Family History of Mental Illness       140700 non-null  object \n",
      " 14  Depression                             140700 non-null  int64  \n",
      " 15  Pressure                               140679 non-null  Int64  \n",
      " 16  Satisfaction                           140685 non-null  Int64  \n",
      "dtypes: Int64(4), float64(1), int64(2), object(10)\n",
      "memory usage: 18.8+ MB\n",
      "None\n"
     ]
    },
    {
     "data": {
      "text/html": [
       "<div>\n",
       "<style scoped>\n",
       "    .dataframe tbody tr th:only-of-type {\n",
       "        vertical-align: middle;\n",
       "    }\n",
       "\n",
       "    .dataframe tbody tr th {\n",
       "        vertical-align: top;\n",
       "    }\n",
       "\n",
       "    .dataframe thead th {\n",
       "        text-align: right;\n",
       "    }\n",
       "</style>\n",
       "<table border=\"1\" class=\"dataframe\">\n",
       "  <thead>\n",
       "    <tr style=\"text-align: right;\">\n",
       "      <th></th>\n",
       "      <th>id</th>\n",
       "      <th>Name</th>\n",
       "      <th>Gender</th>\n",
       "      <th>Age</th>\n",
       "      <th>City</th>\n",
       "      <th>Working Professional or Student</th>\n",
       "      <th>Profession</th>\n",
       "      <th>Sleep Duration</th>\n",
       "      <th>Dietary Habits</th>\n",
       "      <th>Degree</th>\n",
       "      <th>Have you ever had suicidal thoughts ?</th>\n",
       "      <th>Work/Study Hours</th>\n",
       "      <th>Financial Stress</th>\n",
       "      <th>Family History of Mental Illness</th>\n",
       "      <th>Depression</th>\n",
       "      <th>Pressure</th>\n",
       "      <th>Satisfaction</th>\n",
       "    </tr>\n",
       "  </thead>\n",
       "  <tbody>\n",
       "    <tr>\n",
       "      <th>0</th>\n",
       "      <td>0</td>\n",
       "      <td>Aaradhya</td>\n",
       "      <td>Female</td>\n",
       "      <td>49.0</td>\n",
       "      <td>Ludhiana</td>\n",
       "      <td>Working Professional</td>\n",
       "      <td>Chef</td>\n",
       "      <td>More than 8 hours</td>\n",
       "      <td>Healthy</td>\n",
       "      <td>BHM</td>\n",
       "      <td>No</td>\n",
       "      <td>1</td>\n",
       "      <td>2</td>\n",
       "      <td>No</td>\n",
       "      <td>0</td>\n",
       "      <td>5</td>\n",
       "      <td>2</td>\n",
       "    </tr>\n",
       "    <tr>\n",
       "      <th>1</th>\n",
       "      <td>1</td>\n",
       "      <td>Vivan</td>\n",
       "      <td>Male</td>\n",
       "      <td>26.0</td>\n",
       "      <td>Varanasi</td>\n",
       "      <td>Working Professional</td>\n",
       "      <td>Teacher</td>\n",
       "      <td>Less than 5 hours</td>\n",
       "      <td>Unhealthy</td>\n",
       "      <td>LLB</td>\n",
       "      <td>Yes</td>\n",
       "      <td>7</td>\n",
       "      <td>3</td>\n",
       "      <td>No</td>\n",
       "      <td>1</td>\n",
       "      <td>4</td>\n",
       "      <td>3</td>\n",
       "    </tr>\n",
       "    <tr>\n",
       "      <th>2</th>\n",
       "      <td>2</td>\n",
       "      <td>Yuvraj</td>\n",
       "      <td>Male</td>\n",
       "      <td>33.0</td>\n",
       "      <td>Visakhapatnam</td>\n",
       "      <td>Student</td>\n",
       "      <td>NaN</td>\n",
       "      <td>5-6 hours</td>\n",
       "      <td>Healthy</td>\n",
       "      <td>B.Pharm</td>\n",
       "      <td>Yes</td>\n",
       "      <td>3</td>\n",
       "      <td>1</td>\n",
       "      <td>No</td>\n",
       "      <td>1</td>\n",
       "      <td>5</td>\n",
       "      <td>2</td>\n",
       "    </tr>\n",
       "    <tr>\n",
       "      <th>3</th>\n",
       "      <td>3</td>\n",
       "      <td>Yuvraj</td>\n",
       "      <td>Male</td>\n",
       "      <td>22.0</td>\n",
       "      <td>Mumbai</td>\n",
       "      <td>Working Professional</td>\n",
       "      <td>Teacher</td>\n",
       "      <td>Less than 5 hours</td>\n",
       "      <td>Moderate</td>\n",
       "      <td>BBA</td>\n",
       "      <td>Yes</td>\n",
       "      <td>10</td>\n",
       "      <td>1</td>\n",
       "      <td>Yes</td>\n",
       "      <td>1</td>\n",
       "      <td>5</td>\n",
       "      <td>1</td>\n",
       "    </tr>\n",
       "    <tr>\n",
       "      <th>4</th>\n",
       "      <td>4</td>\n",
       "      <td>Rhea</td>\n",
       "      <td>Female</td>\n",
       "      <td>30.0</td>\n",
       "      <td>Kanpur</td>\n",
       "      <td>Working Professional</td>\n",
       "      <td>Business Analyst</td>\n",
       "      <td>5-6 hours</td>\n",
       "      <td>Unhealthy</td>\n",
       "      <td>BBA</td>\n",
       "      <td>Yes</td>\n",
       "      <td>9</td>\n",
       "      <td>4</td>\n",
       "      <td>Yes</td>\n",
       "      <td>0</td>\n",
       "      <td>1</td>\n",
       "      <td>1</td>\n",
       "    </tr>\n",
       "  </tbody>\n",
       "</table>\n",
       "</div>"
      ],
      "text/plain": [
       "   id      Name  Gender   Age           City Working Professional or Student  \\\n",
       "0   0  Aaradhya  Female  49.0       Ludhiana            Working Professional   \n",
       "1   1     Vivan    Male  26.0       Varanasi            Working Professional   \n",
       "2   2    Yuvraj    Male  33.0  Visakhapatnam                         Student   \n",
       "3   3    Yuvraj    Male  22.0         Mumbai            Working Professional   \n",
       "4   4      Rhea  Female  30.0         Kanpur            Working Professional   \n",
       "\n",
       "         Profession     Sleep Duration Dietary Habits   Degree  \\\n",
       "0              Chef  More than 8 hours        Healthy      BHM   \n",
       "1           Teacher  Less than 5 hours      Unhealthy      LLB   \n",
       "2               NaN          5-6 hours        Healthy  B.Pharm   \n",
       "3           Teacher  Less than 5 hours       Moderate      BBA   \n",
       "4  Business Analyst          5-6 hours      Unhealthy      BBA   \n",
       "\n",
       "  Have you ever had suicidal thoughts ?  Work/Study Hours  Financial Stress  \\\n",
       "0                                    No                 1                 2   \n",
       "1                                   Yes                 7                 3   \n",
       "2                                   Yes                 3                 1   \n",
       "3                                   Yes                10                 1   \n",
       "4                                   Yes                 9                 4   \n",
       "\n",
       "  Family History of Mental Illness  Depression  Pressure  Satisfaction  \n",
       "0                               No           0         5             2  \n",
       "1                               No           1         4             3  \n",
       "2                               No           1         5             2  \n",
       "3                              Yes           1         5             1  \n",
       "4                              Yes           0         1             1  "
      ]
     },
     "execution_count": 27,
     "metadata": {},
     "output_type": "execute_result"
    }
   ],
   "source": [
    "print(train.info())\n",
    "train.head()"
   ]
  },
  {
   "cell_type": "code",
   "execution_count": 28,
   "id": "18837f65",
   "metadata": {
    "execution": {
     "iopub.execute_input": "2024-11-13T00:25:48.608423Z",
     "iopub.status.busy": "2024-11-13T00:25:48.608019Z",
     "iopub.status.idle": "2024-11-13T00:25:48.679780Z",
     "shell.execute_reply": "2024-11-13T00:25:48.678674Z"
    },
    "papermill": {
     "duration": 0.09588,
     "end_time": "2024-11-13T00:25:48.682909",
     "exception": false,
     "start_time": "2024-11-13T00:25:48.587029",
     "status": "completed"
    },
    "tags": []
   },
   "outputs": [
    {
     "name": "stdout",
     "output_type": "stream",
     "text": [
      "            id      Name  Gender   Age       City  \\\n",
      "29          29   Kashish  Female  19.0       Agra   \n",
      "36          36      Anvi  Female  50.0     Kalyan   \n",
      "43          43     Vidya  Female  18.0   Vadodara   \n",
      "48          48     Anand    Male  38.0  Ghaziabad   \n",
      "50          50    Raunak    Male  21.0       Pune   \n",
      "...        ...       ...     ...   ...        ...   \n",
      "140647  140647    Yuvraj    Male  35.0     Rajkot   \n",
      "140655  140655     Kiran    Male  44.0     Meerut   \n",
      "140666  140666  Abhishek    Male  18.0   Vadodara   \n",
      "140667  140667   Kashish  Female  19.0     Rajkot   \n",
      "140695  140695     Vidya  Female  18.0  Ahmedabad   \n",
      "\n",
      "       Working Professional or Student Profession     Sleep Duration  \\\n",
      "29                Working Professional        NaN  More than 8 hours   \n",
      "36                Working Professional        NaN          7-8 hours   \n",
      "43                Working Professional        NaN  Less than 5 hours   \n",
      "48                Working Professional        NaN          5-6 hours   \n",
      "50                Working Professional        NaN          5-6 hours   \n",
      "...                                ...        ...                ...   \n",
      "140647            Working Professional        NaN          7-8 hours   \n",
      "140655            Working Professional        NaN  More than 8 hours   \n",
      "140666            Working Professional        NaN  Less than 5 hours   \n",
      "140667            Working Professional        NaN  More than 8 hours   \n",
      "140695            Working Professional        NaN          5-6 hours   \n",
      "\n",
      "       Dietary Habits    Degree Have you ever had suicidal thoughts ?  \\\n",
      "29            Healthy  Class 12                                    No   \n",
      "36          Unhealthy  Class 12                                    No   \n",
      "43           Moderate  Class 12                                   Yes   \n",
      "48           Moderate  Class 12                                    No   \n",
      "50            Healthy  Class 12                                   Yes   \n",
      "...               ...       ...                                   ...   \n",
      "140647      Unhealthy  Class 12                                   Yes   \n",
      "140655        Healthy       PhD                                    No   \n",
      "140666       Moderate  Class 12                                    No   \n",
      "140667      Unhealthy       MHM                                   Yes   \n",
      "140695      Unhealthy  Class 12                                    No   \n",
      "\n",
      "        Work/Study Hours  Financial Stress Family History of Mental Illness  \\\n",
      "29                     5                 2                               No   \n",
      "36                     0                 2                               No   \n",
      "43                    10                 5                               No   \n",
      "48                     1                 1                              Yes   \n",
      "50                     8                 5                              Yes   \n",
      "...                  ...               ...                              ...   \n",
      "140647                11                 2                              Yes   \n",
      "140655                 0                 4                               No   \n",
      "140666                 2                 5                               No   \n",
      "140667                12                 4                              Yes   \n",
      "140695                 2                 4                              Yes   \n",
      "\n",
      "        Depression  Pressure  Satisfaction  \n",
      "29               0         1             5  \n",
      "36               0         4             4  \n",
      "43               1         5             4  \n",
      "48               0         2             5  \n",
      "50               0         4             5  \n",
      "...            ...       ...           ...  \n",
      "140647           1         5             1  \n",
      "140655           0         1             3  \n",
      "140666           1         5             4  \n",
      "140667           1         4             2  \n",
      "140695           1         5             4  \n",
      "\n",
      "[8763 rows x 17 columns]\n",
      "            id       Name  Gender   Age           City  \\\n",
      "2            2     Yuvraj    Male  33.0  Visakhapatnam   \n",
      "8            8  Aishwarya  Female  24.0      Bangalore   \n",
      "26          26     Aditya    Male  31.0       Srinagar   \n",
      "30          30     Prisha  Female  28.0       Varanasi   \n",
      "32          32     Chhavi  Female  25.0         Jaipur   \n",
      "...        ...        ...     ...   ...            ...   \n",
      "140685  140685   Aaradhya  Female  27.0          Surat   \n",
      "140686  140686      Rohan    Male  27.0       Ludhiana   \n",
      "140689  140689      Ayaan    Male  31.0      Faridabad   \n",
      "140690  140690      Rashi  Female  18.0       Ludhiana   \n",
      "140699  140699        Sai    Male  27.0          Patna   \n",
      "\n",
      "       Working Professional or Student Profession     Sleep Duration  \\\n",
      "2                              Student        NaN          5-6 hours   \n",
      "8                              Student        NaN          5-6 hours   \n",
      "26                             Student        NaN  Less than 5 hours   \n",
      "30                             Student        NaN          7-8 hours   \n",
      "32                             Student        NaN          5-6 hours   \n",
      "...                                ...        ...                ...   \n",
      "140685                         Student        NaN          5-6 hours   \n",
      "140686                         Student        NaN  Less than 5 hours   \n",
      "140689                         Student        NaN          5-6 hours   \n",
      "140690                         Student        NaN  Less than 5 hours   \n",
      "140699                         Student        NaN  Less than 5 hours   \n",
      "\n",
      "       Dietary Habits    Degree Have you ever had suicidal thoughts ?  \\\n",
      "2             Healthy   B.Pharm                                   Yes   \n",
      "8            Moderate       BSc                                    No   \n",
      "26            Healthy        BA                                    No   \n",
      "30           Moderate       BCA                                   Yes   \n",
      "32           Moderate    M.Tech                                   Yes   \n",
      "...               ...       ...                                   ...   \n",
      "140685      Unhealthy  Class 12                                   Yes   \n",
      "140686        Healthy       MSc                                    No   \n",
      "140689      Unhealthy        MD                                    No   \n",
      "140690        Healthy  Class 12                                   Yes   \n",
      "140699        Healthy       BCA                                   Yes   \n",
      "\n",
      "        Work/Study Hours  Financial Stress Family History of Mental Illness  \\\n",
      "2                      3                 1                               No   \n",
      "8                      3                 2                              Yes   \n",
      "26                     9                 1                              Yes   \n",
      "30                     4                 5                              Yes   \n",
      "32                     1                 1                               No   \n",
      "...                  ...               ...                              ...   \n",
      "140685                 7                 1                              Yes   \n",
      "140686                 0                 3                              Yes   \n",
      "140689                12                 2                               No   \n",
      "140690                10                 5                               No   \n",
      "140699                 2                 3                              Yes   \n",
      "\n",
      "        Depression  Pressure  Satisfaction  \n",
      "2                1         5             2  \n",
      "8                0         2             5  \n",
      "26               0         3             5  \n",
      "30               1         3             2  \n",
      "32               0         4             3  \n",
      "...            ...       ...           ...  \n",
      "140685           0         5             5  \n",
      "140686           0         2             3  \n",
      "140689           0         3             4  \n",
      "140690           1         5             2  \n",
      "140699           1         4             1  \n",
      "\n",
      "[27867 rows x 17 columns]\n"
     ]
    }
   ],
   "source": [
    "print(train[(train['Profession'].isna()) & (train['Working Professional or Student'] == 'Working Professional')])\n",
    "print(train[(train['Profession'].isna()) & (train['Working Professional or Student'] == 'Student')])"
   ]
  },
  {
   "cell_type": "markdown",
   "id": "887c4b89",
   "metadata": {
    "papermill": {
     "duration": 0.019153,
     "end_time": "2024-11-13T00:25:48.721519",
     "exception": false,
     "start_time": "2024-11-13T00:25:48.702366",
     "status": "completed"
    },
    "tags": []
   },
   "source": [
    "Based on this brief look, we have 8763 rows of people who are working professionals but do not specify what sector they are in. There are also 27867 rows of students that have not filled in their profession as student. "
   ]
  },
  {
   "cell_type": "code",
   "execution_count": 29,
   "id": "3b049818",
   "metadata": {
    "execution": {
     "iopub.execute_input": "2024-11-13T00:25:48.762749Z",
     "iopub.status.busy": "2024-11-13T00:25:48.761771Z",
     "iopub.status.idle": "2024-11-13T00:25:48.789244Z",
     "shell.execute_reply": "2024-11-13T00:25:48.788174Z"
    },
    "papermill": {
     "duration": 0.050606,
     "end_time": "2024-11-13T00:25:48.791418",
     "exception": false,
     "start_time": "2024-11-13T00:25:48.740812",
     "status": "completed"
    },
    "tags": []
   },
   "outputs": [],
   "source": [
    "train.loc[(train['Profession'].isna()) & (train['Working Professional or Student'] == 'Student'), 'Profession'] = 'Student'"
   ]
  },
  {
   "cell_type": "code",
   "execution_count": 30,
   "id": "fa853ab6",
   "metadata": {
    "execution": {
     "iopub.execute_input": "2024-11-13T00:25:48.832544Z",
     "iopub.status.busy": "2024-11-13T00:25:48.831628Z",
     "iopub.status.idle": "2024-11-13T00:25:48.910080Z",
     "shell.execute_reply": "2024-11-13T00:25:48.908728Z"
    },
    "papermill": {
     "duration": 0.101724,
     "end_time": "2024-11-13T00:25:48.912575",
     "exception": false,
     "start_time": "2024-11-13T00:25:48.810851",
     "status": "completed"
    },
    "tags": []
   },
   "outputs": [
    {
     "name": "stdout",
     "output_type": "stream",
     "text": [
      "<class 'pandas.core.frame.DataFrame'>\n",
      "RangeIndex: 140700 entries, 0 to 140699\n",
      "Data columns (total 17 columns):\n",
      " #   Column                                 Non-Null Count   Dtype  \n",
      "---  ------                                 --------------   -----  \n",
      " 0   id                                     140700 non-null  int64  \n",
      " 1   Name                                   140700 non-null  object \n",
      " 2   Gender                                 140700 non-null  object \n",
      " 3   Age                                    140700 non-null  float64\n",
      " 4   City                                   140700 non-null  object \n",
      " 5   Working Professional or Student        140700 non-null  object \n",
      " 6   Profession                             131937 non-null  object \n",
      " 7   Sleep Duration                         140700 non-null  object \n",
      " 8   Dietary Habits                         140696 non-null  object \n",
      " 9   Degree                                 140698 non-null  object \n",
      " 10  Have you ever had suicidal thoughts ?  140700 non-null  object \n",
      " 11  Work/Study Hours                       140700 non-null  Int64  \n",
      " 12  Financial Stress                       140696 non-null  Int64  \n",
      " 13  Family History of Mental Illness       140700 non-null  object \n",
      " 14  Depression                             140700 non-null  int64  \n",
      " 15  Pressure                               140679 non-null  Int64  \n",
      " 16  Satisfaction                           140685 non-null  Int64  \n",
      "dtypes: Int64(4), float64(1), int64(2), object(10)\n",
      "memory usage: 18.8+ MB\n"
     ]
    }
   ],
   "source": [
    "train.info()"
   ]
  },
  {
   "cell_type": "code",
   "execution_count": 31,
   "id": "84a2864f",
   "metadata": {
    "execution": {
     "iopub.execute_input": "2024-11-13T00:25:48.953715Z",
     "iopub.status.busy": "2024-11-13T00:25:48.953291Z",
     "iopub.status.idle": "2024-11-13T00:25:48.973421Z",
     "shell.execute_reply": "2024-11-13T00:25:48.972166Z"
    },
    "papermill": {
     "duration": 0.043623,
     "end_time": "2024-11-13T00:25:48.975853",
     "exception": false,
     "start_time": "2024-11-13T00:25:48.932230",
     "status": "completed"
    },
    "tags": []
   },
   "outputs": [
    {
     "data": {
      "text/plain": [
       "Profession\n",
       "Student              27874\n",
       "Teacher              24906\n",
       "Content Writer        7814\n",
       "Architect             4370\n",
       "Consultant            4229\n",
       "                     ...  \n",
       "Dev                      1\n",
       "BE                       1\n",
       "B.Com                    1\n",
       "Family Consultant        1\n",
       "Yuvraj                   1\n",
       "Name: count, Length: 64, dtype: int64"
      ]
     },
     "execution_count": 31,
     "metadata": {},
     "output_type": "execute_result"
    }
   ],
   "source": [
    "train['Profession'].value_counts()"
   ]
  },
  {
   "cell_type": "code",
   "execution_count": 32,
   "id": "44408573",
   "metadata": {
    "execution": {
     "iopub.execute_input": "2024-11-13T00:25:49.017667Z",
     "iopub.status.busy": "2024-11-13T00:25:49.016936Z",
     "iopub.status.idle": "2024-11-13T00:25:49.033966Z",
     "shell.execute_reply": "2024-11-13T00:25:49.032928Z"
    },
    "papermill": {
     "duration": 0.040688,
     "end_time": "2024-11-13T00:25:49.036411",
     "exception": false,
     "start_time": "2024-11-13T00:25:48.995723",
     "status": "completed"
    },
    "tags": []
   },
   "outputs": [],
   "source": [
    "train['Profession'] = train['Profession'].fillna(\"Unspecified\")"
   ]
  },
  {
   "cell_type": "code",
   "execution_count": 33,
   "id": "b34ea32e",
   "metadata": {
    "execution": {
     "iopub.execute_input": "2024-11-13T00:25:49.077516Z",
     "iopub.status.busy": "2024-11-13T00:25:49.077126Z",
     "iopub.status.idle": "2024-11-13T00:25:49.159048Z",
     "shell.execute_reply": "2024-11-13T00:25:49.157934Z"
    },
    "papermill": {
     "duration": 0.105221,
     "end_time": "2024-11-13T00:25:49.161526",
     "exception": false,
     "start_time": "2024-11-13T00:25:49.056305",
     "status": "completed"
    },
    "tags": []
   },
   "outputs": [
    {
     "name": "stdout",
     "output_type": "stream",
     "text": [
      "<class 'pandas.core.frame.DataFrame'>\n",
      "RangeIndex: 140700 entries, 0 to 140699\n",
      "Data columns (total 17 columns):\n",
      " #   Column                                 Non-Null Count   Dtype  \n",
      "---  ------                                 --------------   -----  \n",
      " 0   id                                     140700 non-null  int64  \n",
      " 1   Name                                   140700 non-null  object \n",
      " 2   Gender                                 140700 non-null  object \n",
      " 3   Age                                    140700 non-null  float64\n",
      " 4   City                                   140700 non-null  object \n",
      " 5   Working Professional or Student        140700 non-null  object \n",
      " 6   Profession                             140700 non-null  object \n",
      " 7   Sleep Duration                         140700 non-null  object \n",
      " 8   Dietary Habits                         140696 non-null  object \n",
      " 9   Degree                                 140698 non-null  object \n",
      " 10  Have you ever had suicidal thoughts ?  140700 non-null  object \n",
      " 11  Work/Study Hours                       140700 non-null  Int64  \n",
      " 12  Financial Stress                       140696 non-null  Int64  \n",
      " 13  Family History of Mental Illness       140700 non-null  object \n",
      " 14  Depression                             140700 non-null  int64  \n",
      " 15  Pressure                               140679 non-null  Int64  \n",
      " 16  Satisfaction                           140685 non-null  Int64  \n",
      "dtypes: Int64(4), float64(1), int64(2), object(10)\n",
      "memory usage: 18.8+ MB\n"
     ]
    }
   ],
   "source": [
    "train.info()"
   ]
  },
  {
   "cell_type": "code",
   "execution_count": 34,
   "id": "8af19452",
   "metadata": {
    "execution": {
     "iopub.execute_input": "2024-11-13T00:25:49.203745Z",
     "iopub.status.busy": "2024-11-13T00:25:49.203328Z",
     "iopub.status.idle": "2024-11-13T00:25:49.269255Z",
     "shell.execute_reply": "2024-11-13T00:25:49.268054Z"
    },
    "papermill": {
     "duration": 0.090012,
     "end_time": "2024-11-13T00:25:49.271936",
     "exception": false,
     "start_time": "2024-11-13T00:25:49.181924",
     "status": "completed"
    },
    "tags": []
   },
   "outputs": [],
   "source": [
    "train['Pressure'] = train['Pressure'].fillna(train['Pressure'].median())\n",
    "train['Satisfaction'] = train['Satisfaction'].fillna(train['Satisfaction'].median())\n",
    "train['Financial Stress'] = train['Financial Stress'].fillna(train['Financial Stress'].median())\n",
    "train['Dietary Habits'] = train['Dietary Habits'].fillna(train['Dietary Habits'].mode()[0])\n",
    "train['Degree'] = train['Degree'].fillna(train['Degree'].mode()[0])"
   ]
  },
  {
   "cell_type": "code",
   "execution_count": 35,
   "id": "9b10e2d7",
   "metadata": {
    "execution": {
     "iopub.execute_input": "2024-11-13T00:25:49.313954Z",
     "iopub.status.busy": "2024-11-13T00:25:49.313081Z",
     "iopub.status.idle": "2024-11-13T00:25:49.396798Z",
     "shell.execute_reply": "2024-11-13T00:25:49.395698Z"
    },
    "papermill": {
     "duration": 0.107696,
     "end_time": "2024-11-13T00:25:49.399420",
     "exception": false,
     "start_time": "2024-11-13T00:25:49.291724",
     "status": "completed"
    },
    "tags": []
   },
   "outputs": [
    {
     "name": "stdout",
     "output_type": "stream",
     "text": [
      "<class 'pandas.core.frame.DataFrame'>\n",
      "RangeIndex: 140700 entries, 0 to 140699\n",
      "Data columns (total 17 columns):\n",
      " #   Column                                 Non-Null Count   Dtype  \n",
      "---  ------                                 --------------   -----  \n",
      " 0   id                                     140700 non-null  int64  \n",
      " 1   Name                                   140700 non-null  object \n",
      " 2   Gender                                 140700 non-null  object \n",
      " 3   Age                                    140700 non-null  float64\n",
      " 4   City                                   140700 non-null  object \n",
      " 5   Working Professional or Student        140700 non-null  object \n",
      " 6   Profession                             140700 non-null  object \n",
      " 7   Sleep Duration                         140700 non-null  object \n",
      " 8   Dietary Habits                         140700 non-null  object \n",
      " 9   Degree                                 140700 non-null  object \n",
      " 10  Have you ever had suicidal thoughts ?  140700 non-null  object \n",
      " 11  Work/Study Hours                       140700 non-null  Int64  \n",
      " 12  Financial Stress                       140700 non-null  Int64  \n",
      " 13  Family History of Mental Illness       140700 non-null  object \n",
      " 14  Depression                             140700 non-null  int64  \n",
      " 15  Pressure                               140700 non-null  Int64  \n",
      " 16  Satisfaction                           140700 non-null  Int64  \n",
      "dtypes: Int64(4), float64(1), int64(2), object(10)\n",
      "memory usage: 18.8+ MB\n"
     ]
    }
   ],
   "source": [
    "train.info()"
   ]
  },
  {
   "cell_type": "markdown",
   "id": "57b78cec",
   "metadata": {
    "papermill": {
     "duration": 0.019878,
     "end_time": "2024-11-13T00:25:49.439442",
     "exception": false,
     "start_time": "2024-11-13T00:25:49.419564",
     "status": "completed"
    },
    "tags": []
   },
   "source": [
    "Lets perform these same changes on our test data. To maintains ethics, we will use values from the training set."
   ]
  },
  {
   "cell_type": "code",
   "execution_count": 36,
   "id": "869d0356",
   "metadata": {
    "execution": {
     "iopub.execute_input": "2024-11-13T00:25:49.481097Z",
     "iopub.status.busy": "2024-11-13T00:25:49.480610Z",
     "iopub.status.idle": "2024-11-13T00:25:49.583978Z",
     "shell.execute_reply": "2024-11-13T00:25:49.583029Z"
    },
    "papermill": {
     "duration": 0.127055,
     "end_time": "2024-11-13T00:25:49.586513",
     "exception": false,
     "start_time": "2024-11-13T00:25:49.459458",
     "status": "completed"
    },
    "tags": []
   },
   "outputs": [],
   "source": [
    "test['Pressure'] = test['Academic Pressure'].combine_first(test['Work Pressure'])\n",
    "test['Satisfaction'] = test['Study Satisfaction'].combine_first(test['Job Satisfaction'])\n",
    "\n",
    "test = test.drop(columns=['Academic Pressure', 'Work Pressure', 'Study Satisfaction', 'Job Satisfaction', 'CGPA'])\n",
    "\n",
    "test.loc[(test['Profession'].isna()) & (test['Working Professional or Student'] == 'Student'), 'Profession'] = 'Student'\n",
    "test['Profession'] = test['Profession'].fillna(\"Unspecified\")\n",
    "\n",
    "test['Pressure'] = test['Pressure'].fillna(train['Pressure'].median())\n",
    "test['Satisfaction'] = test['Satisfaction'].fillna(train['Satisfaction'].median())\n",
    "test['Financial Stress'] = test['Financial Stress'].fillna(train['Financial Stress'].median())\n",
    "\n",
    "test['Dietary Habits'] = test['Dietary Habits'].fillna(train['Dietary Habits'].mode()[0])\n",
    "test['Degree'] = test['Degree'].fillna(train['Degree'].mode()[0])"
   ]
  },
  {
   "cell_type": "code",
   "execution_count": 37,
   "id": "efb76613",
   "metadata": {
    "execution": {
     "iopub.execute_input": "2024-11-13T00:25:49.629272Z",
     "iopub.status.busy": "2024-11-13T00:25:49.628234Z",
     "iopub.status.idle": "2024-11-13T00:25:49.684236Z",
     "shell.execute_reply": "2024-11-13T00:25:49.683154Z"
    },
    "papermill": {
     "duration": 0.080137,
     "end_time": "2024-11-13T00:25:49.686822",
     "exception": false,
     "start_time": "2024-11-13T00:25:49.606685",
     "status": "completed"
    },
    "tags": []
   },
   "outputs": [
    {
     "name": "stdout",
     "output_type": "stream",
     "text": [
      "<class 'pandas.core.frame.DataFrame'>\n",
      "RangeIndex: 93800 entries, 0 to 93799\n",
      "Data columns (total 16 columns):\n",
      " #   Column                                 Non-Null Count  Dtype  \n",
      "---  ------                                 --------------  -----  \n",
      " 0   id                                     93800 non-null  int64  \n",
      " 1   Name                                   93800 non-null  object \n",
      " 2   Gender                                 93800 non-null  object \n",
      " 3   Age                                    93800 non-null  float64\n",
      " 4   City                                   93800 non-null  object \n",
      " 5   Working Professional or Student        93800 non-null  object \n",
      " 6   Profession                             93800 non-null  object \n",
      " 7   Sleep Duration                         93800 non-null  object \n",
      " 8   Dietary Habits                         93800 non-null  object \n",
      " 9   Degree                                 93800 non-null  object \n",
      " 10  Have you ever had suicidal thoughts ?  93800 non-null  object \n",
      " 11  Work/Study Hours                       93800 non-null  Int64  \n",
      " 12  Financial Stress                       93800 non-null  Int64  \n",
      " 13  Family History of Mental Illness       93800 non-null  object \n",
      " 14  Pressure                               93800 non-null  Int64  \n",
      " 15  Satisfaction                           93800 non-null  Int64  \n",
      "dtypes: Int64(4), float64(1), int64(1), object(10)\n",
      "memory usage: 11.8+ MB\n"
     ]
    }
   ],
   "source": [
    "test.info()"
   ]
  },
  {
   "cell_type": "markdown",
   "id": "272bb790",
   "metadata": {
    "papermill": {
     "duration": 0.019644,
     "end_time": "2024-11-13T00:25:49.726674",
     "exception": false,
     "start_time": "2024-11-13T00:25:49.707030",
     "status": "completed"
    },
    "tags": []
   },
   "source": [
    "Now that our data is fully processed, we can continue to our next step: Modelling"
   ]
  },
  {
   "cell_type": "markdown",
   "id": "baa96b4b",
   "metadata": {
    "papermill": {
     "duration": 0.019614,
     "end_time": "2024-11-13T00:25:49.766429",
     "exception": false,
     "start_time": "2024-11-13T00:25:49.746815",
     "status": "completed"
    },
    "tags": []
   },
   "source": [
    "# Model"
   ]
  },
  {
   "cell_type": "code",
   "execution_count": 38,
   "id": "e6886be9",
   "metadata": {
    "execution": {
     "iopub.execute_input": "2024-11-13T00:25:49.808161Z",
     "iopub.status.busy": "2024-11-13T00:25:49.807707Z",
     "iopub.status.idle": "2024-11-13T00:25:49.828743Z",
     "shell.execute_reply": "2024-11-13T00:25:49.827566Z"
    },
    "papermill": {
     "duration": 0.045012,
     "end_time": "2024-11-13T00:25:49.831364",
     "exception": false,
     "start_time": "2024-11-13T00:25:49.786352",
     "status": "completed"
    },
    "tags": []
   },
   "outputs": [],
   "source": [
    "y = train['Depression'] \n",
    "X = train.drop(['Depression', 'id', 'Name'],axis=1)"
   ]
  },
  {
   "cell_type": "code",
   "execution_count": 39,
   "id": "2aa8b5e9",
   "metadata": {
    "execution": {
     "iopub.execute_input": "2024-11-13T00:25:49.874429Z",
     "iopub.status.busy": "2024-11-13T00:25:49.873419Z",
     "iopub.status.idle": "2024-11-13T00:27:25.326983Z",
     "shell.execute_reply": "2024-11-13T00:27:25.325858Z"
    },
    "papermill": {
     "duration": 95.496589,
     "end_time": "2024-11-13T00:27:25.348662",
     "exception": false,
     "start_time": "2024-11-13T00:25:49.852073",
     "status": "completed"
    },
    "tags": []
   },
   "outputs": [
    {
     "name": "stdout",
     "output_type": "stream",
     "text": [
      "Baseline Accuracy: 0.9391613361762615\n",
      "Baseline F1 Score: 0.8290051937674789\n"
     ]
    }
   ],
   "source": [
    "X_train, X_val, y_train, y_val = train_test_split(X, y, test_size=0.2, stratify=y, random_state=42)\n",
    "\n",
    "categorical_columns = ['Gender', \n",
    "    'City', \n",
    "    'Working Professional or Student', \n",
    "    'Profession', \n",
    "    'Sleep Duration', \n",
    "    'Dietary Habits', \n",
    "    'Degree', \n",
    "    'Have you ever had suicidal thoughts ?', \n",
    "    'Family History of Mental Illness']\n",
    "\n",
    "categorical_features_indices = [X_train.columns.get_loc(col) for col in categorical_columns]\n",
    "\n",
    "baseline_model = CatBoostClassifier(cat_features=categorical_features_indices, verbose=0, random_state=1)\n",
    "baseline_model.fit(X_train, y_train)\n",
    "\n",
    "val_preds = baseline_model.predict(X_val)\n",
    "baseline_accuracy = accuracy_score(y_val, val_preds)\n",
    "baseline_f1 = f1_score(y_val, val_preds)\n",
    "\n",
    "print(\"Baseline Accuracy:\", baseline_accuracy)\n",
    "print(\"Baseline F1 Score:\", baseline_f1)"
   ]
  },
  {
   "cell_type": "markdown",
   "id": "60569327",
   "metadata": {
    "papermill": {
     "duration": 0.019851,
     "end_time": "2024-11-13T00:27:25.388525",
     "exception": false,
     "start_time": "2024-11-13T00:27:25.368674",
     "status": "completed"
    },
    "tags": []
   },
   "source": [
    "In the above step, we create a baseline CatBoost Classifier model on our training data and obtain an accuracy of **93.916%**. We also achieve an F1 score of **0.8290** which is good. But we can use optuna to create a model with far better hyperparameters for our final model."
   ]
  },
  {
   "cell_type": "code",
   "execution_count": 40,
   "id": "a6991e8a",
   "metadata": {
    "execution": {
     "iopub.execute_input": "2024-11-13T00:27:25.431109Z",
     "iopub.status.busy": "2024-11-13T00:27:25.430648Z",
     "iopub.status.idle": "2024-11-13T00:27:25.438657Z",
     "shell.execute_reply": "2024-11-13T00:27:25.437435Z"
    },
    "papermill": {
     "duration": 0.03244,
     "end_time": "2024-11-13T00:27:25.441027",
     "exception": false,
     "start_time": "2024-11-13T00:27:25.408587",
     "status": "completed"
    },
    "tags": []
   },
   "outputs": [],
   "source": [
    "# Objective function with updated suggest_float syntax\n",
    "def objective(trial):\n",
    "    # Define the hyperparameters to be tuned\n",
    "    params = {\n",
    "        'iterations': trial.suggest_int('iterations', 100, 1000),\n",
    "        'depth': trial.suggest_int('depth', 4, 10),\n",
    "        'learning_rate': trial.suggest_float('learning_rate', 1e-3, 0.3, log=True),\n",
    "        'l2_leaf_reg': trial.suggest_float('l2_leaf_reg', 1e-3, 10.0, log=True),\n",
    "        'bagging_temperature': trial.suggest_float('bagging_temperature', 0, 1),\n",
    "        'random_strength': trial.suggest_float('random_strength', 0.1, 1.0)\n",
    "    }\n",
    "    \n",
    "    # Initialize CatBoost with these parameters\n",
    "    model = CatBoostClassifier(cat_features=categorical_features_indices, **params, verbose=0)\n",
    "    \n",
    "    # Train the model and evaluate with cross-validation\n",
    "    model.fit(X_train, y_train)\n",
    "    val_preds = model.predict(X_val)\n",
    "    f1 = f1_score(y_val, val_preds)  # Use F1 score as the metric for Optuna to optimize\n",
    "    return f1"
   ]
  },
  {
   "cell_type": "code",
   "execution_count": 41,
   "id": "5ca333bd",
   "metadata": {
    "execution": {
     "iopub.execute_input": "2024-11-13T00:27:25.483705Z",
     "iopub.status.busy": "2024-11-13T00:27:25.483309Z",
     "iopub.status.idle": "2024-11-13T01:20:22.069415Z",
     "shell.execute_reply": "2024-11-13T01:20:22.068174Z"
    },
    "papermill": {
     "duration": 3176.706982,
     "end_time": "2024-11-13T01:20:22.168158",
     "exception": false,
     "start_time": "2024-11-13T00:27:25.461176",
     "status": "completed"
    },
    "tags": []
   },
   "outputs": [
    {
     "name": "stderr",
     "output_type": "stream",
     "text": [
      "[I 2024-11-13 00:27:25,485] A new study created in memory with name: no-name-b5819ceb-1611-4fe5-ab51-334c9d0ec476\n",
      "[I 2024-11-13 00:29:00,535] Trial 0 finished with value: 0.8283111422564821 and parameters: {'iterations': 561, 'depth': 9, 'learning_rate': 0.007140902613900691, 'l2_leaf_reg': 8.928636135944178, 'bagging_temperature': 0.6072119480858209, 'random_strength': 0.10782366344416121}. Best is trial 0 with value: 0.8283111422564821.\n",
      "[I 2024-11-13 00:31:25,378] Trial 1 finished with value: 0.8172563249672412 and parameters: {'iterations': 664, 'depth': 10, 'learning_rate': 0.0012195323541575763, 'l2_leaf_reg': 0.5487037238399597, 'bagging_temperature': 0.42604974772963355, 'random_strength': 0.8018952354176314}. Best is trial 0 with value: 0.8283111422564821.\n",
      "[I 2024-11-13 00:32:28,062] Trial 2 finished with value: 0.8228594265161354 and parameters: {'iterations': 279, 'depth': 10, 'learning_rate': 0.06521359727206259, 'l2_leaf_reg': 0.02954073058675598, 'bagging_temperature': 0.7944785217386134, 'random_strength': 0.9483901397902134}. Best is trial 0 with value: 0.8283111422564821.\n",
      "[I 2024-11-13 00:33:32,898] Trial 3 finished with value: 0.8289959118556188 and parameters: {'iterations': 952, 'depth': 4, 'learning_rate': 0.07563618391606979, 'l2_leaf_reg': 0.04496924382511251, 'bagging_temperature': 0.08100276669261997, 'random_strength': 0.2323074182767584}. Best is trial 3 with value: 0.8289959118556188.\n",
      "[I 2024-11-13 00:34:06,047] Trial 4 finished with value: 0.8297065282491515 and parameters: {'iterations': 485, 'depth': 4, 'learning_rate': 0.10125270393309725, 'l2_leaf_reg': 0.0021637493008273946, 'bagging_temperature': 0.6021739679669498, 'random_strength': 0.26646680694028}. Best is trial 4 with value: 0.8297065282491515.\n",
      "[I 2024-11-13 00:34:31,389] Trial 5 finished with value: 0.8275999204613241 and parameters: {'iterations': 265, 'depth': 6, 'learning_rate': 0.20991821398956317, 'l2_leaf_reg': 2.302136647519411, 'bagging_temperature': 0.7686785678169002, 'random_strength': 0.2195823802408924}. Best is trial 4 with value: 0.8297065282491515.\n",
      "[I 2024-11-13 00:35:46,306] Trial 6 finished with value: 0.8182641054007844 and parameters: {'iterations': 434, 'depth': 9, 'learning_rate': 0.0020189077993793846, 'l2_leaf_reg': 0.0021523707902143517, 'bagging_temperature': 0.3320253311333484, 'random_strength': 0.13418116054122134}. Best is trial 4 with value: 0.8297065282491515.\n",
      "[I 2024-11-13 00:35:52,133] Trial 7 finished with value: 0.8113245298119247 and parameters: {'iterations': 105, 'depth': 9, 'learning_rate': 0.0026441610435388703, 'l2_leaf_reg': 6.218127642015199, 'bagging_temperature': 0.706456257275177, 'random_strength': 0.30334584145080234}. Best is trial 4 with value: 0.8297065282491515.\n",
      "[I 2024-11-13 00:36:58,591] Trial 8 finished with value: 0.8282141070535268 and parameters: {'iterations': 796, 'depth': 5, 'learning_rate': 0.02505038059050155, 'l2_leaf_reg': 0.0019276327659414152, 'bagging_temperature': 0.40315547020577014, 'random_strength': 0.12814754616162427}. Best is trial 4 with value: 0.8297065282491515.\n",
      "[I 2024-11-13 00:39:21,883] Trial 9 finished with value: 0.8277101217807946 and parameters: {'iterations': 874, 'depth': 9, 'learning_rate': 0.013689692252923805, 'l2_leaf_reg': 0.05955452037870608, 'bagging_temperature': 0.4021767133621139, 'random_strength': 0.27933541203798284}. Best is trial 4 with value: 0.8297065282491515.\n",
      "[I 2024-11-13 00:40:14,580] Trial 10 finished with value: 0.8186518194472062 and parameters: {'iterations': 445, 'depth': 7, 'learning_rate': 0.24265587876404648, 'l2_leaf_reg': 0.00834943652060858, 'bagging_temperature': 0.976501805140737, 'random_strength': 0.5021696413295336}. Best is trial 4 with value: 0.8297065282491515.\n",
      "[I 2024-11-13 00:41:21,869] Trial 11 finished with value: 0.8302112395376644 and parameters: {'iterations': 978, 'depth': 4, 'learning_rate': 0.0635905215969829, 'l2_leaf_reg': 0.30437328820232407, 'bagging_temperature': 0.1516108805095122, 'random_strength': 0.4635757884194639}. Best is trial 11 with value: 0.8302112395376644.\n",
      "[I 2024-11-13 00:42:10,533] Trial 12 finished with value: 0.8295749351426861 and parameters: {'iterations': 716, 'depth': 4, 'learning_rate': 0.06457484164719632, 'l2_leaf_reg': 0.3581911707253372, 'bagging_temperature': 0.06150843537190477, 'random_strength': 0.4791953099373274}. Best is trial 11 with value: 0.8302112395376644.\n",
      "[I 2024-11-13 00:42:59,364] Trial 13 finished with value: 0.829 and parameters: {'iterations': 573, 'depth': 5, 'learning_rate': 0.03178650576989909, 'l2_leaf_reg': 0.2935877555368711, 'bagging_temperature': 0.21753547293650682, 'random_strength': 0.4140711481375192}. Best is trial 11 with value: 0.8302112395376644.\n",
      "[I 2024-11-13 00:43:35,178] Trial 14 finished with value: 0.827022718214428 and parameters: {'iterations': 423, 'depth': 5, 'learning_rate': 0.13407492389786077, 'l2_leaf_reg': 0.008497184343245626, 'bagging_temperature': 0.5730349705059787, 'random_strength': 0.7011714526293336}. Best is trial 11 with value: 0.8302112395376644.\n",
      "[I 2024-11-13 00:45:32,637] Trial 15 finished with value: 0.8237528741377587 and parameters: {'iterations': 991, 'depth': 7, 'learning_rate': 0.1110754254653237, 'l2_leaf_reg': 0.13710494184333336, 'bagging_temperature': 0.2529998935468071, 'random_strength': 0.5925627859333586}. Best is trial 11 with value: 0.8302112395376644.\n",
      "[I 2024-11-13 00:46:21,405] Trial 16 finished with value: 0.8293511946416076 and parameters: {'iterations': 720, 'depth': 4, 'learning_rate': 0.03752028869496869, 'l2_leaf_reg': 1.6575929990680076, 'bagging_temperature': 0.1731079214315454, 'random_strength': 0.35267890719767936}. Best is trial 11 with value: 0.8302112395376644.\n",
      "[I 2024-11-13 00:46:51,218] Trial 17 finished with value: 0.8225612203934163 and parameters: {'iterations': 291, 'depth': 6, 'learning_rate': 0.010665274993493162, 'l2_leaf_reg': 0.013352033936491365, 'bagging_temperature': 0.5522341792416694, 'random_strength': 0.6517110772685782}. Best is trial 11 with value: 0.8302112395376644.\n",
      "[I 2024-11-13 00:48:15,997] Trial 18 finished with value: 0.8257431688519667 and parameters: {'iterations': 840, 'depth': 6, 'learning_rate': 0.005207762128854808, 'l2_leaf_reg': 0.0012000646706248016, 'bagging_temperature': 0.9452158993199773, 'random_strength': 0.3987020551158669}. Best is trial 11 with value: 0.8302112395376644.\n",
      "[I 2024-11-13 00:48:58,686] Trial 19 finished with value: 0.8299890186682639 and parameters: {'iterations': 627, 'depth': 4, 'learning_rate': 0.04437079397557577, 'l2_leaf_reg': 0.12304248766564271, 'bagging_temperature': 0.6498606809113692, 'random_strength': 0.5466642405128538}. Best is trial 11 with value: 0.8302112395376644.\n",
      "[I 2024-11-13 00:49:52,015] Trial 20 finished with value: 0.8286685325869652 and parameters: {'iterations': 633, 'depth': 5, 'learning_rate': 0.02191220994666789, 'l2_leaf_reg': 1.097567878265429, 'bagging_temperature': 0.007004461174704102, 'random_strength': 0.7683900241650241}. Best is trial 11 with value: 0.8302112395376644.\n",
      "[I 2024-11-13 00:50:25,344] Trial 21 finished with value: 0.8294387857000198 and parameters: {'iterations': 482, 'depth': 4, 'learning_rate': 0.04623758640731809, 'l2_leaf_reg': 0.15044409263248715, 'bagging_temperature': 0.648023081987952, 'random_strength': 0.5602161504289517}. Best is trial 11 with value: 0.8302112395376644.\n",
      "[I 2024-11-13 00:50:48,787] Trial 22 finished with value: 0.8288791384124452 and parameters: {'iterations': 346, 'depth': 4, 'learning_rate': 0.1302530031172808, 'l2_leaf_reg': 0.023837581993539823, 'bagging_temperature': 0.8398892743904638, 'random_strength': 0.4648160300888139}. Best is trial 11 with value: 0.8302112395376644.\n",
      "[I 2024-11-13 00:50:53,384] Trial 23 finished with value: 0.8270481144343304 and parameters: {'iterations': 137, 'depth': 5, 'learning_rate': 0.09291483983628966, 'l2_leaf_reg': 0.10058506441970093, 'bagging_temperature': 0.4606143637085699, 'random_strength': 0.6451164024739636}. Best is trial 11 with value: 0.8302112395376644.\n",
      "[I 2024-11-13 00:51:55,727] Trial 24 finished with value: 0.8301736180403113 and parameters: {'iterations': 920, 'depth': 4, 'learning_rate': 0.04711884471690304, 'l2_leaf_reg': 0.2181130217114426, 'bagging_temperature': 0.6650177406781752, 'random_strength': 0.39865507871744055}. Best is trial 11 with value: 0.8302112395376644.\n",
      "[I 2024-11-13 00:53:26,217] Trial 25 finished with value: 0.8288450029922201 and parameters: {'iterations': 914, 'depth': 6, 'learning_rate': 0.0452228568541616, 'l2_leaf_reg': 0.73033744699237, 'bagging_temperature': 0.7182612290999523, 'random_strength': 0.534676922254228}. Best is trial 11 with value: 0.8302112395376644.\n",
      "[I 2024-11-13 00:54:33,693] Trial 26 finished with value: 0.8287657531506301 and parameters: {'iterations': 803, 'depth': 5, 'learning_rate': 0.01569031737812103, 'l2_leaf_reg': 0.18266663009847123, 'bagging_temperature': 0.5091819400782109, 'random_strength': 0.40963480112574585}. Best is trial 11 with value: 0.8302112395376644.\n",
      "[I 2024-11-13 00:56:51,929] Trial 27 finished with value: 0.8114240222907753 and parameters: {'iterations': 991, 'depth': 8, 'learning_rate': 0.17142392148557054, 'l2_leaf_reg': 0.29226663423414573, 'bagging_temperature': 0.8875137605557113, 'random_strength': 0.3597640844209402}. Best is trial 11 with value: 0.8302112395376644.\n",
      "[I 2024-11-13 00:57:42,968] Trial 28 finished with value: 0.8303731790061865 and parameters: {'iterations': 750, 'depth': 4, 'learning_rate': 0.049420054605366526, 'l2_leaf_reg': 0.06786774107328757, 'bagging_temperature': 0.31251539576216186, 'random_strength': 0.585111451235898}. Best is trial 28 with value: 0.8303731790061865.\n",
      "[I 2024-11-13 00:59:49,473] Trial 29 finished with value: 0.8288 and parameters: {'iterations': 896, 'depth': 8, 'learning_rate': 0.007079564272011955, 'l2_leaf_reg': 0.06224938201836459, 'bagging_temperature': 0.3077272296898999, 'random_strength': 0.8183163144636064}. Best is trial 28 with value: 0.8303731790061865.\n",
      "[I 2024-11-13 01:00:53,414] Trial 30 finished with value: 0.8299850074962519 and parameters: {'iterations': 768, 'depth': 5, 'learning_rate': 0.025618697023610217, 'l2_leaf_reg': 3.2054470396363026, 'bagging_temperature': 0.14076548098678196, 'random_strength': 0.6130641942652066}. Best is trial 28 with value: 0.8303731790061865.\n",
      "[I 2024-11-13 01:01:34,674] Trial 31 finished with value: 0.8298233356622418 and parameters: {'iterations': 610, 'depth': 4, 'learning_rate': 0.05003055572314345, 'l2_leaf_reg': 0.0849639481708207, 'bagging_temperature': 0.6569027218158308, 'random_strength': 0.4585886199446535}. Best is trial 28 with value: 0.8303731790061865.\n",
      "[I 2024-11-13 01:02:22,105] Trial 32 finished with value: 0.8302715654952078 and parameters: {'iterations': 702, 'depth': 4, 'learning_rate': 0.034161848017381126, 'l2_leaf_reg': 0.5773662156344757, 'bagging_temperature': 0.3351477864604729, 'random_strength': 0.7038419285161635}. Best is trial 28 with value: 0.8303731790061865.\n",
      "[I 2024-11-13 01:03:20,006] Trial 33 finished with value: 0.8307385229540918 and parameters: {'iterations': 843, 'depth': 4, 'learning_rate': 0.0618823268606148, 'l2_leaf_reg': 0.388226439237479, 'bagging_temperature': 0.33616254576755045, 'random_strength': 0.7178167763646589}. Best is trial 33 with value: 0.8307385229540918.\n",
      "[I 2024-11-13 01:04:19,122] Trial 34 finished with value: 0.8290155440414508 and parameters: {'iterations': 711, 'depth': 5, 'learning_rate': 0.07074058784450538, 'l2_leaf_reg': 0.6995268886111119, 'bagging_temperature': 0.3239838322746873, 'random_strength': 0.8467885052103898}. Best is trial 33 with value: 0.8307385229540918.\n",
      "[I 2024-11-13 01:05:16,236] Trial 35 finished with value: 0.8293706293706293 and parameters: {'iterations': 844, 'depth': 4, 'learning_rate': 0.029607206543656915, 'l2_leaf_reg': 0.49616938674733607, 'bagging_temperature': 0.2516495262700305, 'random_strength': 0.7178923925421176}. Best is trial 33 with value: 0.8307385229540918.\n",
      "[I 2024-11-13 01:06:02,807] Trial 36 finished with value: 0.8305880003993212 and parameters: {'iterations': 686, 'depth': 4, 'learning_rate': 0.06943817294842515, 'l2_leaf_reg': 1.417268883608341, 'bagging_temperature': 0.3771740263674136, 'random_strength': 0.9047721438252097}. Best is trial 33 with value: 0.8307385229540918.\n",
      "[I 2024-11-13 01:07:10,698] Trial 37 finished with value: 0.8292487746323897 and parameters: {'iterations': 678, 'depth': 6, 'learning_rate': 0.019636371338826956, 'l2_leaf_reg': 4.039778515234768, 'bagging_temperature': 0.37302785451915255, 'random_strength': 0.9238967033876944}. Best is trial 33 with value: 0.8307385229540918.\n",
      "[I 2024-11-13 01:10:12,428] Trial 38 finished with value: 0.8188362327534494 and parameters: {'iterations': 767, 'depth': 10, 'learning_rate': 0.08164032561458776, 'l2_leaf_reg': 1.3520642149062825, 'bagging_temperature': 0.47082898605337864, 'random_strength': 0.8890174017187458}. Best is trial 33 with value: 0.8307385229540918.\n",
      "[I 2024-11-13 01:10:49,985] Trial 39 finished with value: 0.8295160326628163 and parameters: {'iterations': 576, 'depth': 4, 'learning_rate': 0.15400187431025436, 'l2_leaf_reg': 7.978392784332588, 'bagging_temperature': 0.2923375768234593, 'random_strength': 0.7820451797515251}. Best is trial 33 with value: 0.8307385229540918.\n",
      "[I 2024-11-13 01:11:46,588] Trial 40 finished with value: 0.8236231451050693 and parameters: {'iterations': 660, 'depth': 5, 'learning_rate': 0.2773757666987663, 'l2_leaf_reg': 0.03396963763452508, 'bagging_temperature': 0.38916769687791164, 'random_strength': 0.992030642533161}. Best is trial 33 with value: 0.8307385229540918.\n",
      "[I 2024-11-13 01:12:37,720] Trial 41 finished with value: 0.8303731790061865 and parameters: {'iterations': 753, 'depth': 4, 'learning_rate': 0.06149076839455171, 'l2_leaf_reg': 0.46377537013045955, 'bagging_temperature': 0.1515205258765776, 'random_strength': 0.6779362816508165}. Best is trial 33 with value: 0.8307385229540918.\n",
      "[I 2024-11-13 01:13:29,226] Trial 42 finished with value: 0.8297256857855362 and parameters: {'iterations': 751, 'depth': 4, 'learning_rate': 0.059771063476419826, 'l2_leaf_reg': 0.6473961226940667, 'bagging_temperature': 0.20244352895385906, 'random_strength': 0.7106721179386863}. Best is trial 33 with value: 0.8307385229540918.\n",
      "[I 2024-11-13 01:14:24,957] Trial 43 finished with value: 0.8302527725047456 and parameters: {'iterations': 821, 'depth': 4, 'learning_rate': 0.03311668519033484, 'l2_leaf_reg': 1.020465640370432, 'bagging_temperature': 0.08997441634552136, 'random_strength': 0.7406233546968786}. Best is trial 33 with value: 0.8307385229540918.\n",
      "[I 2024-11-13 01:15:21,305] Trial 44 finished with value: 0.8303918635955728 and parameters: {'iterations': 690, 'depth': 5, 'learning_rate': 0.09878217349594115, 'l2_leaf_reg': 2.0226566338792242, 'bagging_temperature': 0.3590952578744705, 'random_strength': 0.6742565278112296}. Best is trial 33 with value: 0.8307385229540918.\n",
      "[I 2024-11-13 01:16:06,795] Trial 45 finished with value: 0.8268100786774226 and parameters: {'iterations': 533, 'depth': 5, 'learning_rate': 0.18999238546777117, 'l2_leaf_reg': 1.8849852168174752, 'bagging_temperature': 0.44551563371701475, 'random_strength': 0.6630947858395604}. Best is trial 33 with value: 0.8307385229540918.\n",
      "[I 2024-11-13 01:17:09,016] Trial 46 finished with value: 0.8299482277976902 and parameters: {'iterations': 756, 'depth': 5, 'learning_rate': 0.10444370452024344, 'l2_leaf_reg': 2.9246925693909276, 'bagging_temperature': 0.2666540253140577, 'random_strength': 0.8452455354943146}. Best is trial 33 with value: 0.8307385229540918.\n",
      "[I 2024-11-13 01:17:52,134] Trial 47 finished with value: 0.8300757877941763 and parameters: {'iterations': 663, 'depth': 4, 'learning_rate': 0.0831234273318055, 'l2_leaf_reg': 5.512805190692222, 'bagging_temperature': 0.35946750076280776, 'random_strength': 0.6150903533082446}. Best is trial 33 with value: 0.8307385229540918.\n",
      "[I 2024-11-13 01:19:05,136] Trial 48 finished with value: 0.8277030393622321 and parameters: {'iterations': 853, 'depth': 5, 'learning_rate': 0.11649723683693904, 'l2_leaf_reg': 0.4315317202864602, 'bagging_temperature': 0.4162260525908102, 'random_strength': 0.671393332574341}. Best is trial 33 with value: 0.8307385229540918.\n",
      "[I 2024-11-13 01:20:22,064] Trial 49 finished with value: 0.8276137270550679 and parameters: {'iterations': 789, 'depth': 6, 'learning_rate': 0.060143944528694135, 'l2_leaf_reg': 2.3732952259921674, 'bagging_temperature': 0.5114594165735225, 'random_strength': 0.7655181856550264}. Best is trial 33 with value: 0.8307385229540918.\n"
     ]
    }
   ],
   "source": [
    "study = optuna.create_study(direction='maximize', sampler=TPESampler())\n",
    "study.optimize(objective, n_trials=50)"
   ]
  },
  {
   "cell_type": "markdown",
   "id": "f5f97783",
   "metadata": {
    "papermill": {
     "duration": 0.02339,
     "end_time": "2024-11-13T01:20:22.215401",
     "exception": false,
     "start_time": "2024-11-13T01:20:22.192011",
     "status": "completed"
    },
    "tags": []
   },
   "source": [
    "Trial 33 finished with value: 0.8311869821303783 and parameters: {'iterations': 577, 'depth': 4, 'learning_rate': 0.11394496114985933, 'l2_leaf_reg': 0.189636233070043, 'bagging_temperature': 0.6646862180258234, 'random_strength': 0.12072519860393123}. Best is trial 33 with value: 0.8311869821303783."
   ]
  },
  {
   "cell_type": "code",
   "execution_count": 42,
   "id": "12bb213b",
   "metadata": {
    "execution": {
     "iopub.execute_input": "2024-11-13T01:20:22.264946Z",
     "iopub.status.busy": "2024-11-13T01:20:22.264339Z",
     "iopub.status.idle": "2024-11-13T01:21:19.548864Z",
     "shell.execute_reply": "2024-11-13T01:21:19.547753Z"
    },
    "papermill": {
     "duration": 57.335125,
     "end_time": "2024-11-13T01:21:19.574040",
     "exception": false,
     "start_time": "2024-11-13T01:20:22.238915",
     "status": "completed"
    },
    "tags": []
   },
   "outputs": [
    {
     "name": "stdout",
     "output_type": "stream",
     "text": [
      "Best F1 Score: 0.8307385229540918\n",
      "Best Parameters: {'iterations': 843, 'depth': 4, 'learning_rate': 0.0618823268606148, 'l2_leaf_reg': 0.388226439237479, 'bagging_temperature': 0.33616254576755045, 'random_strength': 0.7178167763646589}\n",
      "Model Accuracy: 0.939729921819474\n",
      "Model F1 Score: 0.8307385229540918\n"
     ]
    }
   ],
   "source": [
    "best_params = study.best_params\n",
    "best_score = study.best_value\n",
    "print(\"Best F1 Score:\", best_score)\n",
    "print(\"Best Parameters:\", best_params)\n",
    "\n",
    "final_model = CatBoostClassifier(cat_features=categorical_features_indices, **best_params, verbose=0)\n",
    "final_model.fit(X_train, y_train)\n",
    "\n",
    "final_val_preds = final_model.predict(X_val)\n",
    "final_accuracy = accuracy_score(y_val, final_val_preds)\n",
    "final_f1 = f1_score(y_val, final_val_preds)\n",
    "\n",
    "print(\"Model Accuracy:\", final_accuracy)\n",
    "print(\"Model F1 Score:\", final_f1)"
   ]
  },
  {
   "cell_type": "markdown",
   "id": "3772b8b0",
   "metadata": {
    "papermill": {
     "duration": 0.023603,
     "end_time": "2024-11-13T01:21:19.621269",
     "exception": false,
     "start_time": "2024-11-13T01:21:19.597666",
     "status": "completed"
    },
    "tags": []
   },
   "source": [
    "After 50 trials of optuna hyperparameter tuning, we achieve the below:\n",
    "\n",
    "Model Accuracy: 0.939907604832978\n",
    "Model F1 Score: 0.8311869821303783\n",
    "\n",
    "This model effectively achieves better results than our basemodel.\n",
    "\n",
    "We can further attempt to improve our model with refined tuning."
   ]
  },
  {
   "cell_type": "code",
   "execution_count": 43,
   "id": "74231f2b",
   "metadata": {
    "execution": {
     "iopub.execute_input": "2024-11-13T01:21:19.669680Z",
     "iopub.status.busy": "2024-11-13T01:21:19.669240Z",
     "iopub.status.idle": "2024-11-13T01:21:19.676708Z",
     "shell.execute_reply": "2024-11-13T01:21:19.675663Z"
    },
    "papermill": {
     "duration": 0.034356,
     "end_time": "2024-11-13T01:21:19.678918",
     "exception": false,
     "start_time": "2024-11-13T01:21:19.644562",
     "status": "completed"
    },
    "tags": []
   },
   "outputs": [],
   "source": [
    "def objective_refined(trial):\n",
    "    params = {\n",
    "        'iterations': trial.suggest_int('iterations', 550, 600),\n",
    "        'depth': trial.suggest_int('depth', 2, 5),\n",
    "        'learning_rate': trial.suggest_float('learning_rate', 0.1, 0.2, log=True),\n",
    "        'l2_leaf_reg': trial.suggest_float('l2_leaf_reg', 0.15, 0.2),\n",
    "        'bagging_temperature': trial.suggest_float('bagging_temperature', 0.5, 0.75),\n",
    "        'random_strength': trial.suggest_float('random_strength', 0.1, 0.2)\n",
    "    }\n",
    "    \n",
    "    # Initialize and train CatBoost model with these refined parameters\n",
    "    model = CatBoostClassifier(cat_features=categorical_features_indices, **params, verbose=0)\n",
    "    \n",
    "    # Train and evaluate the model\n",
    "    model.fit(X_train, y_train)\n",
    "    val_preds = model.predict(X_val)\n",
    "    f1 = f1_score(y_val, val_preds)\n",
    "    accuracy = accuracy_score(y_val, val_preds)\n",
    "    return f1"
   ]
  },
  {
   "cell_type": "code",
   "execution_count": 44,
   "id": "513eb83a",
   "metadata": {
    "execution": {
     "iopub.execute_input": "2024-11-13T01:21:19.728789Z",
     "iopub.status.busy": "2024-11-13T01:21:19.727762Z",
     "iopub.status.idle": "2024-11-13T01:48:17.700449Z",
     "shell.execute_reply": "2024-11-13T01:48:17.699110Z"
    },
    "papermill": {
     "duration": 1618.000306,
     "end_time": "2024-11-13T01:48:17.702931",
     "exception": false,
     "start_time": "2024-11-13T01:21:19.702625",
     "status": "completed"
    },
    "tags": []
   },
   "outputs": [
    {
     "name": "stderr",
     "output_type": "stream",
     "text": [
      "[I 2024-11-13 01:21:19,730] A new study created in memory with name: no-name-b0b0773e-b77d-4674-99ff-e5d9c396c0a7\n",
      "[I 2024-11-13 01:22:01,238] Trial 0 finished with value: 0.8293460925039872 and parameters: {'iterations': 593, 'depth': 4, 'learning_rate': 0.12091442004679158, 'l2_leaf_reg': 0.15036307258475765, 'bagging_temperature': 0.6209901002032141, 'random_strength': 0.1223730512189366}. Best is trial 0 with value: 0.8293460925039872.\n",
      "[I 2024-11-13 01:22:49,786] Trial 1 finished with value: 0.8284660619954151 and parameters: {'iterations': 578, 'depth': 5, 'learning_rate': 0.11874544143326293, 'l2_leaf_reg': 0.19262036592520895, 'bagging_temperature': 0.6832052457728269, 'random_strength': 0.15867011936233957}. Best is trial 0 with value: 0.8293460925039872.\n",
      "[I 2024-11-13 01:23:12,251] Trial 2 finished with value: 0.8299591104019148 and parameters: {'iterations': 569, 'depth': 2, 'learning_rate': 0.12698906249418662, 'l2_leaf_reg': 0.17960808502886794, 'bagging_temperature': 0.63641132567485, 'random_strength': 0.1977805566832032}. Best is trial 2 with value: 0.8299591104019148.\n",
      "[I 2024-11-13 01:23:42,871] Trial 3 finished with value: 0.8296960637767812 and parameters: {'iterations': 568, 'depth': 3, 'learning_rate': 0.12932824325686207, 'l2_leaf_reg': 0.195435772739287, 'bagging_temperature': 0.636451387512383, 'random_strength': 0.10623002000359637}. Best is trial 2 with value: 0.8299591104019148.\n",
      "[I 2024-11-13 01:24:22,254] Trial 4 finished with value: 0.8286399041342122 and parameters: {'iterations': 567, 'depth': 4, 'learning_rate': 0.17715143151031712, 'l2_leaf_reg': 0.1507225819355639, 'bagging_temperature': 0.5186080339779842, 'random_strength': 0.11059163897257712}. Best is trial 2 with value: 0.8299591104019148.\n",
      "[I 2024-11-13 01:25:01,084] Trial 5 finished with value: 0.8285086843681373 and parameters: {'iterations': 563, 'depth': 4, 'learning_rate': 0.14173089890388132, 'l2_leaf_reg': 0.1908674330737499, 'bagging_temperature': 0.5546076811399407, 'random_strength': 0.11369407125155814}. Best is trial 2 with value: 0.8299591104019148.\n",
      "[I 2024-11-13 01:25:40,343] Trial 6 finished with value: 0.8286312431462466 and parameters: {'iterations': 567, 'depth': 4, 'learning_rate': 0.19452361887766154, 'l2_leaf_reg': 0.19637091227269063, 'bagging_temperature': 0.662025697921976, 'random_strength': 0.1299765338977229}. Best is trial 2 with value: 0.8299591104019148.\n",
      "[I 2024-11-13 01:26:27,292] Trial 7 finished with value: 0.8280330973980661 and parameters: {'iterations': 555, 'depth': 5, 'learning_rate': 0.1130960734064072, 'l2_leaf_reg': 0.1763803854697487, 'bagging_temperature': 0.5554448445185881, 'random_strength': 0.1041258667233539}. Best is trial 2 with value: 0.8299591104019148.\n",
      "[I 2024-11-13 01:27:08,342] Trial 8 finished with value: 0.8295646976790516 and parameters: {'iterations': 590, 'depth': 4, 'learning_rate': 0.1749425325611203, 'l2_leaf_reg': 0.16401565077548452, 'bagging_temperature': 0.7111161665405058, 'random_strength': 0.19473191722640668}. Best is trial 2 with value: 0.8299591104019148.\n",
      "[I 2024-11-13 01:27:57,463] Trial 9 finished with value: 0.8271334792122539 and parameters: {'iterations': 579, 'depth': 5, 'learning_rate': 0.1822097114293421, 'l2_leaf_reg': 0.16854097399887955, 'bagging_temperature': 0.6072134357496721, 'random_strength': 0.16675871096968314}. Best is trial 2 with value: 0.8299591104019148.\n",
      "[I 2024-11-13 01:28:19,352] Trial 10 finished with value: 0.829204954055134 and parameters: {'iterations': 554, 'depth': 2, 'learning_rate': 0.10101297462760844, 'l2_leaf_reg': 0.18159575578442644, 'bagging_temperature': 0.7183874700082582, 'random_strength': 0.1999166979675502}. Best is trial 2 with value: 0.8299591104019148.\n",
      "[I 2024-11-13 01:28:41,997] Trial 11 finished with value: 0.8292585570302364 and parameters: {'iterations': 574, 'depth': 2, 'learning_rate': 0.14327065947932469, 'l2_leaf_reg': 0.18428787204356742, 'bagging_temperature': 0.6495605014829826, 'random_strength': 0.13705064631169944}. Best is trial 2 with value: 0.8299591104019148.\n",
      "[I 2024-11-13 01:29:12,299] Trial 12 finished with value: 0.8303090727816551 and parameters: {'iterations': 561, 'depth': 3, 'learning_rate': 0.13150175646524592, 'l2_leaf_reg': 0.19990438717361658, 'bagging_temperature': 0.6059643076972635, 'random_strength': 0.1761410663195882}. Best is trial 12 with value: 0.8303090727816551.\n",
      "[I 2024-11-13 01:29:42,686] Trial 13 finished with value: 0.8300079808459697 and parameters: {'iterations': 559, 'depth': 3, 'learning_rate': 0.1564832413755416, 'l2_leaf_reg': 0.16345179271923876, 'bagging_temperature': 0.5884280908852869, 'random_strength': 0.17952500140595296}. Best is trial 12 with value: 0.8303090727816551.\n",
      "[I 2024-11-13 01:30:12,579] Trial 14 finished with value: 0.8299102691924227 and parameters: {'iterations': 550, 'depth': 3, 'learning_rate': 0.15838650986229721, 'l2_leaf_reg': 0.16123224394829536, 'bagging_temperature': 0.5819627074224875, 'random_strength': 0.17622323050494418}. Best is trial 12 with value: 0.8303090727816551.\n",
      "[I 2024-11-13 01:30:42,872] Trial 15 finished with value: 0.8292634306787602 and parameters: {'iterations': 559, 'depth': 3, 'learning_rate': 0.15581405051591227, 'l2_leaf_reg': 0.1707725387741052, 'bagging_temperature': 0.5006584802885313, 'random_strength': 0.18111453025087382}. Best is trial 12 with value: 0.8303090727816551.\n",
      "[I 2024-11-13 01:31:14,101] Trial 16 finished with value: 0.830388339822302 and parameters: {'iterations': 586, 'depth': 3, 'learning_rate': 0.1582120232825829, 'l2_leaf_reg': 0.15927223850630506, 'bagging_temperature': 0.5970097607937708, 'random_strength': 0.1811488737701886}. Best is trial 16 with value: 0.830388339822302.\n",
      "[I 2024-11-13 01:31:45,114] Trial 17 finished with value: 0.8309381237524951 and parameters: {'iterations': 585, 'depth': 3, 'learning_rate': 0.1356316828185747, 'l2_leaf_reg': 0.15637413290956043, 'bagging_temperature': 0.5500973157396557, 'random_strength': 0.14466213042155357}. Best is trial 17 with value: 0.8309381237524951.\n",
      "[I 2024-11-13 01:32:08,281] Trial 18 finished with value: 0.8295261845386533 and parameters: {'iterations': 585, 'depth': 2, 'learning_rate': 0.1658266963587056, 'l2_leaf_reg': 0.15679016698879966, 'bagging_temperature': 0.5477733755585017, 'random_strength': 0.14711243107599592}. Best is trial 17 with value: 0.8309381237524951.\n",
      "[I 2024-11-13 01:32:40,723] Trial 19 finished with value: 0.830132351477759 and parameters: {'iterations': 599, 'depth': 3, 'learning_rate': 0.14809465980876932, 'l2_leaf_reg': 0.1558852032850523, 'bagging_temperature': 0.5334181577005307, 'random_strength': 0.1476788554959378}. Best is trial 17 with value: 0.8309381237524951.\n",
      "[I 2024-11-13 01:33:03,795] Trial 20 finished with value: 0.8289907157831686 and parameters: {'iterations': 584, 'depth': 2, 'learning_rate': 0.10789657941445, 'l2_leaf_reg': 0.15698762476907163, 'bagging_temperature': 0.5770708013095448, 'random_strength': 0.15712046739910981}. Best is trial 17 with value: 0.8309381237524951.\n",
      "[I 2024-11-13 01:33:35,278] Trial 21 finished with value: 0.8307416267942584 and parameters: {'iterations': 588, 'depth': 3, 'learning_rate': 0.13382897657843146, 'l2_leaf_reg': 0.18655095345400577, 'bagging_temperature': 0.603334328456366, 'random_strength': 0.17105862416286943}. Best is trial 17 with value: 0.8309381237524951.\n",
      "[I 2024-11-13 01:34:07,048] Trial 22 finished with value: 0.8299930202413002 and parameters: {'iterations': 589, 'depth': 3, 'learning_rate': 0.1355553117409802, 'l2_leaf_reg': 0.18837448542519789, 'bagging_temperature': 0.5754734631471479, 'random_strength': 0.16604868648253038}. Best is trial 17 with value: 0.8309381237524951.\n",
      "[I 2024-11-13 01:34:39,333] Trial 23 finished with value: 0.8306556231912983 and parameters: {'iterations': 598, 'depth': 3, 'learning_rate': 0.1486815054811895, 'l2_leaf_reg': 0.17047927266090696, 'bagging_temperature': 0.6092657997341825, 'random_strength': 0.1876443466956097}. Best is trial 17 with value: 0.8309381237524951.\n",
      "[I 2024-11-13 01:35:11,625] Trial 24 finished with value: 0.8304105221203666 and parameters: {'iterations': 600, 'depth': 3, 'learning_rate': 0.13818332158602925, 'l2_leaf_reg': 0.17119733569777917, 'bagging_temperature': 0.6697188128194326, 'random_strength': 0.18956153661541064}. Best is trial 17 with value: 0.8309381237524951.\n",
      "[I 2024-11-13 01:35:52,681] Trial 25 finished with value: 0.8280876494023903 and parameters: {'iterations': 595, 'depth': 4, 'learning_rate': 0.14871014233736365, 'l2_leaf_reg': 0.17720287854381953, 'bagging_temperature': 0.619305267994327, 'random_strength': 0.13705832933011133}. Best is trial 17 with value: 0.8309381237524951.\n",
      "[I 2024-11-13 01:36:24,928] Trial 26 finished with value: 0.8310083698684734 and parameters: {'iterations': 596, 'depth': 3, 'learning_rate': 0.12513386706360402, 'l2_leaf_reg': 0.18592112758210189, 'bagging_temperature': 0.5638731263032535, 'random_strength': 0.16727110506466702}. Best is trial 26 with value: 0.8310083698684734.\n",
      "[I 2024-11-13 01:36:48,429] Trial 27 finished with value: 0.8299591104019148 and parameters: {'iterations': 593, 'depth': 2, 'learning_rate': 0.12394110243543843, 'l2_leaf_reg': 0.1859052054697461, 'bagging_temperature': 0.527859984561081, 'random_strength': 0.16787401632266796}. Best is trial 26 with value: 0.8310083698684734.\n",
      "[I 2024-11-13 01:37:19,693] Trial 28 finished with value: 0.829623714941611 and parameters: {'iterations': 581, 'depth': 3, 'learning_rate': 0.11477550262482768, 'l2_leaf_reg': 0.18203969432411413, 'bagging_temperature': 0.5687218176238142, 'random_strength': 0.15820977497635944}. Best is trial 26 with value: 0.8310083698684734.\n",
      "[I 2024-11-13 01:38:00,349] Trial 29 finished with value: 0.8291076063086444 and parameters: {'iterations': 592, 'depth': 4, 'learning_rate': 0.11897746724732472, 'l2_leaf_reg': 0.18802098357209818, 'bagging_temperature': 0.7473963587155844, 'random_strength': 0.14121966719722484}. Best is trial 26 with value: 0.8310083698684734.\n",
      "[I 2024-11-13 01:38:23,836] Trial 30 finished with value: 0.8309072781655036 and parameters: {'iterations': 596, 'depth': 2, 'learning_rate': 0.13480069370330688, 'l2_leaf_reg': 0.15228488449398547, 'bagging_temperature': 0.5422300782891422, 'random_strength': 0.12359659536192671}. Best is trial 26 with value: 0.8310083698684734.\n",
      "[I 2024-11-13 01:38:46,716] Trial 31 finished with value: 0.8301435406698564 and parameters: {'iterations': 596, 'depth': 2, 'learning_rate': 0.13434868327298136, 'l2_leaf_reg': 0.15298491237711762, 'bagging_temperature': 0.5437975439690829, 'random_strength': 0.12327090279818484}. Best is trial 26 with value: 0.8310083698684734.\n",
      "[I 2024-11-13 01:39:09,839] Trial 32 finished with value: 0.8298042349180984 and parameters: {'iterations': 589, 'depth': 2, 'learning_rate': 0.1255426236584194, 'l2_leaf_reg': 0.1524386204747284, 'bagging_temperature': 0.5121159061777114, 'random_strength': 0.15214632782517926}. Best is trial 26 with value: 0.8310083698684734.\n",
      "[I 2024-11-13 01:39:41,597] Trial 33 finished with value: 0.8308735540486636 and parameters: {'iterations': 595, 'depth': 3, 'learning_rate': 0.12084726748010917, 'l2_leaf_reg': 0.1656426922103192, 'bagging_temperature': 0.5650658362777747, 'random_strength': 0.1270964931096318}. Best is trial 26 with value: 0.8310083698684734.\n",
      "[I 2024-11-13 01:40:05,161] Trial 34 finished with value: 0.8295261845386533 and parameters: {'iterations': 596, 'depth': 2, 'learning_rate': 0.12127053281933463, 'l2_leaf_reg': 0.16517692416558133, 'bagging_temperature': 0.5659259232486378, 'random_strength': 0.12244626125949183}. Best is trial 26 with value: 0.8310083698684734.\n",
      "[I 2024-11-13 01:40:35,767] Trial 35 finished with value: 0.8301246882793016 and parameters: {'iterations': 574, 'depth': 3, 'learning_rate': 0.11373127210622826, 'l2_leaf_reg': 0.1601497681633412, 'bagging_temperature': 0.5346626166503229, 'random_strength': 0.12846211057496154}. Best is trial 26 with value: 0.8310083698684734.\n",
      "[I 2024-11-13 01:40:58,453] Trial 36 finished with value: 0.8295601874937669 and parameters: {'iterations': 592, 'depth': 2, 'learning_rate': 0.12858057711432638, 'l2_leaf_reg': 0.15088761015433702, 'bagging_temperature': 0.5587975505258129, 'random_strength': 0.11713012844550896}. Best is trial 26 with value: 0.8310083698684734.\n",
      "[I 2024-11-13 01:41:38,966] Trial 37 finished with value: 0.8302601415329413 and parameters: {'iterations': 583, 'depth': 4, 'learning_rate': 0.10739443192862591, 'l2_leaf_reg': 0.15434841732090357, 'bagging_temperature': 0.5104224206115553, 'random_strength': 0.12992907284460592}. Best is trial 26 with value: 0.8310083698684734.\n",
      "[I 2024-11-13 01:42:10,925] Trial 38 finished with value: 0.8310083698684734 and parameters: {'iterations': 595, 'depth': 3, 'learning_rate': 0.12226611078278314, 'l2_leaf_reg': 0.16803181115584273, 'bagging_temperature': 0.5248984630928875, 'random_strength': 0.11554898149234236}. Best is trial 26 with value: 0.8310083698684734.\n",
      "[I 2024-11-13 01:42:59,420] Trial 39 finished with value: 0.8285543608124254 and parameters: {'iterations': 578, 'depth': 5, 'learning_rate': 0.1414514246981406, 'l2_leaf_reg': 0.15020911476453455, 'bagging_temperature': 0.5211840733104843, 'random_strength': 0.10884570852013697}. Best is trial 26 with value: 0.8310083698684734.\n",
      "[I 2024-11-13 01:43:40,402] Trial 40 finished with value: 0.8290496114763897 and parameters: {'iterations': 593, 'depth': 4, 'learning_rate': 0.12681536929294218, 'l2_leaf_reg': 0.1743064749013135, 'bagging_temperature': 0.5424932656350916, 'random_strength': 0.11743123195371817}. Best is trial 26 with value: 0.8310083698684734.\n",
      "[I 2024-11-13 01:44:12,478] Trial 41 finished with value: 0.8304070231444532 and parameters: {'iterations': 597, 'depth': 3, 'learning_rate': 0.12057495850819265, 'l2_leaf_reg': 0.16670102894967917, 'bagging_temperature': 0.5573328837412734, 'random_strength': 0.11299294492343853}. Best is trial 26 with value: 0.8310083698684734.\n",
      "[I 2024-11-13 01:44:44,828] Trial 42 finished with value: 0.8297744961085612 and parameters: {'iterations': 600, 'depth': 3, 'learning_rate': 0.13014248355329505, 'l2_leaf_reg': 0.16744800526207526, 'bagging_temperature': 0.5380727068498184, 'random_strength': 0.13564894826700724}. Best is trial 26 with value: 0.8310083698684734.\n",
      "[I 2024-11-13 01:45:16,630] Trial 43 finished with value: 0.8305389221556887 and parameters: {'iterations': 594, 'depth': 3, 'learning_rate': 0.10893131595744254, 'l2_leaf_reg': 0.16239539062555203, 'bagging_temperature': 0.5210250174557529, 'random_strength': 0.10165330121838904}. Best is trial 26 with value: 0.8310083698684734.\n",
      "[I 2024-11-13 01:45:48,285] Trial 44 finished with value: 0.8298912501247131 and parameters: {'iterations': 591, 'depth': 3, 'learning_rate': 0.12246662156438089, 'l2_leaf_reg': 0.17409942688209018, 'bagging_temperature': 0.565354351931197, 'random_strength': 0.12555506358696267}. Best is trial 26 with value: 0.8310083698684734.\n",
      "[I 2024-11-13 01:46:29,222] Trial 45 finished with value: 0.8283492822966506 and parameters: {'iterations': 588, 'depth': 4, 'learning_rate': 0.13725271370502168, 'l2_leaf_reg': 0.15860203129309974, 'bagging_temperature': 0.5018541155462369, 'random_strength': 0.1422410632517237}. Best is trial 26 with value: 0.8310083698684734.\n",
      "[I 2024-11-13 01:46:52,146] Trial 46 finished with value: 0.8303393213572854 and parameters: {'iterations': 597, 'depth': 2, 'learning_rate': 0.11539643998423087, 'l2_leaf_reg': 0.16565184271396888, 'bagging_temperature': 0.5906681460481653, 'random_strength': 0.1168739208317803}. Best is trial 26 with value: 0.8310083698684734.\n",
      "[I 2024-11-13 01:47:23,482] Trial 47 finished with value: 0.8298614571912689 and parameters: {'iterations': 586, 'depth': 3, 'learning_rate': 0.11748652159220917, 'l2_leaf_reg': 0.17880294086441575, 'bagging_temperature': 0.6351037860526825, 'random_strength': 0.13417213630016633}. Best is trial 26 with value: 0.8310083698684734.\n",
      "[I 2024-11-13 01:47:55,122] Trial 48 finished with value: 0.8307078763708874 and parameters: {'iterations': 591, 'depth': 3, 'learning_rate': 0.10332585988010279, 'l2_leaf_reg': 0.1953690679799726, 'bagging_temperature': 0.5274374483462116, 'random_strength': 0.10685806062971502}. Best is trial 26 with value: 0.8310083698684734.\n",
      "[I 2024-11-13 01:48:17,696] Trial 49 finished with value: 0.8296769046669327 and parameters: {'iterations': 570, 'depth': 2, 'learning_rate': 0.13086199960865022, 'l2_leaf_reg': 0.19250143915511583, 'bagging_temperature': 0.5517604441124556, 'random_strength': 0.15422236392585328}. Best is trial 26 with value: 0.8310083698684734.\n"
     ]
    }
   ],
   "source": [
    "# Create a new Optuna study with refined parameter ranges\n",
    "study_refined = optuna.create_study(direction='maximize', sampler=optuna.samplers.TPESampler())\n",
    "study_refined.optimize(objective_refined, n_trials=50)"
   ]
  },
  {
   "cell_type": "markdown",
   "id": "9103fcd3",
   "metadata": {
    "papermill": {
     "duration": 0.026461,
     "end_time": "2024-11-13T01:48:17.756517",
     "exception": false,
     "start_time": "2024-11-13T01:48:17.730056",
     "status": "completed"
    },
    "tags": []
   },
   "source": [
    "Best trial:\n",
    "\n",
    "Trial 43 finished with value: 0.8310911808669657 and parameters: {'iterations': 586, 'depth': 3, 'learning_rate': 0.16002879214800333, 'l2_leaf_reg': 0.1611898177151389, 'bagging_temperature': 0.513842784496157, 'random_strength': 0.14862405627394454}. Best is trial 43 with value: 0.8310911808669657."
   ]
  },
  {
   "cell_type": "code",
   "execution_count": 45,
   "id": "4c5ff702",
   "metadata": {
    "execution": {
     "iopub.execute_input": "2024-11-13T01:48:17.812306Z",
     "iopub.status.busy": "2024-11-13T01:48:17.811844Z",
     "iopub.status.idle": "2024-11-13T01:48:17.818642Z",
     "shell.execute_reply": "2024-11-13T01:48:17.817463Z"
    },
    "papermill": {
     "duration": 0.037739,
     "end_time": "2024-11-13T01:48:17.821136",
     "exception": false,
     "start_time": "2024-11-13T01:48:17.783397",
     "status": "completed"
    },
    "tags": []
   },
   "outputs": [
    {
     "name": "stdout",
     "output_type": "stream",
     "text": [
      "Best F1 Score from Refined Search: 0.8310083698684734\n",
      "Best Parameters from Refined Search: {'iterations': 596, 'depth': 3, 'learning_rate': 0.12513386706360402, 'l2_leaf_reg': 0.18592112758210189, 'bagging_temperature': 0.5638731263032535, 'random_strength': 0.16727110506466702}\n"
     ]
    }
   ],
   "source": [
    "# Print the best results from the refined search\n",
    "best_params_refined = study_refined.best_params\n",
    "best_f1_refined = study_refined.best_value\n",
    "print(\"Best F1 Score from Refined Search:\", best_f1_refined)\n",
    "print(\"Best Parameters from Refined Search:\", best_params_refined)"
   ]
  },
  {
   "cell_type": "code",
   "execution_count": 46,
   "id": "7bde527e",
   "metadata": {
    "execution": {
     "iopub.execute_input": "2024-11-13T01:48:17.876724Z",
     "iopub.status.busy": "2024-11-13T01:48:17.876338Z",
     "iopub.status.idle": "2024-11-13T01:48:50.063901Z",
     "shell.execute_reply": "2024-11-13T01:48:50.062694Z"
    },
    "papermill": {
     "duration": 32.244568,
     "end_time": "2024-11-13T01:48:50.092766",
     "exception": false,
     "start_time": "2024-11-13T01:48:17.848198",
     "status": "completed"
    },
    "tags": []
   },
   "outputs": [
    {
     "name": "stdout",
     "output_type": "stream",
     "text": [
      "Final Model Accuracy: 0.939729921819474\n",
      "Final Model F1 Score: 0.8310083698684734\n"
     ]
    }
   ],
   "source": [
    "final_model_refined = CatBoostClassifier(cat_features=categorical_features_indices, **best_params_refined, verbose=0)\n",
    "final_model_refined.fit(X_train, y_train)\n",
    "final_val_preds = final_model_refined.predict(X_val)\n",
    "final_accuracy = accuracy_score(y_val, final_val_preds)\n",
    "final_f1 = f1_score(y_val, final_val_preds)\n",
    "\n",
    "print(\"Final Model Accuracy:\", final_accuracy)\n",
    "print(\"Final Model F1 Score:\", final_f1)"
   ]
  },
  {
   "cell_type": "markdown",
   "id": "b2ef62f5",
   "metadata": {
    "papermill": {
     "duration": 0.026474,
     "end_time": "2024-11-13T01:48:50.146407",
     "exception": false,
     "start_time": "2024-11-13T01:48:50.119933",
     "status": "completed"
    },
    "tags": []
   },
   "source": [
    "With our second iteration of optuna optimization we get:\n",
    "\n",
    "Model Accuracy: 0.9397654584221748 Model F1 Score: 0.8310911808669657\n",
    "\n",
    "\n",
    "we can train our model on our full training set."
   ]
  },
  {
   "cell_type": "code",
   "execution_count": 47,
   "id": "177e8802",
   "metadata": {
    "execution": {
     "iopub.execute_input": "2024-11-13T01:48:50.202420Z",
     "iopub.status.busy": "2024-11-13T01:48:50.201424Z",
     "iopub.status.idle": "2024-11-13T01:49:29.068925Z",
     "shell.execute_reply": "2024-11-13T01:49:29.067768Z"
    },
    "papermill": {
     "duration": 38.924517,
     "end_time": "2024-11-13T01:49:29.097778",
     "exception": false,
     "start_time": "2024-11-13T01:48:50.173261",
     "status": "completed"
    },
    "tags": []
   },
   "outputs": [
    {
     "data": {
      "text/plain": [
       "<catboost.core.CatBoostClassifier at 0x7f3193904ee0>"
      ]
     },
     "execution_count": 47,
     "metadata": {},
     "output_type": "execute_result"
    }
   ],
   "source": [
    "X_full = pd.concat([X_train, X_val])\n",
    "y_full = pd.concat([y_train, y_val])\n",
    "\n",
    "final_model = CatBoostClassifier(cat_features=categorical_features_indices, **best_params_refined, verbose=0)\n",
    "final_model.fit(X_full, y_full)"
   ]
  },
  {
   "cell_type": "markdown",
   "id": "c65ff97b",
   "metadata": {
    "papermill": {
     "duration": 0.027396,
     "end_time": "2024-11-13T01:49:29.152235",
     "exception": false,
     "start_time": "2024-11-13T01:49:29.124839",
     "status": "completed"
    },
    "tags": []
   },
   "source": [
    "We can now apply our model to our unseen test set."
   ]
  },
  {
   "cell_type": "code",
   "execution_count": 48,
   "id": "a2e22d96",
   "metadata": {
    "execution": {
     "iopub.execute_input": "2024-11-13T01:49:29.208916Z",
     "iopub.status.busy": "2024-11-13T01:49:29.208448Z",
     "iopub.status.idle": "2024-11-13T01:49:29.241425Z",
     "shell.execute_reply": "2024-11-13T01:49:29.240425Z"
    },
    "papermill": {
     "duration": 0.064582,
     "end_time": "2024-11-13T01:49:29.244051",
     "exception": false,
     "start_time": "2024-11-13T01:49:29.179469",
     "status": "completed"
    },
    "tags": []
   },
   "outputs": [],
   "source": [
    "test = test.drop(['id', 'Name'], axis=1)"
   ]
  },
  {
   "cell_type": "code",
   "execution_count": 49,
   "id": "208918b3",
   "metadata": {
    "execution": {
     "iopub.execute_input": "2024-11-13T01:49:29.300578Z",
     "iopub.status.busy": "2024-11-13T01:49:29.300158Z",
     "iopub.status.idle": "2024-11-13T01:49:29.650040Z",
     "shell.execute_reply": "2024-11-13T01:49:29.648916Z"
    },
    "papermill": {
     "duration": 0.380597,
     "end_time": "2024-11-13T01:49:29.652194",
     "exception": false,
     "start_time": "2024-11-13T01:49:29.271597",
     "status": "completed"
    },
    "tags": []
   },
   "outputs": [
    {
     "data": {
      "text/html": [
       "<div>\n",
       "<style scoped>\n",
       "    .dataframe tbody tr th:only-of-type {\n",
       "        vertical-align: middle;\n",
       "    }\n",
       "\n",
       "    .dataframe tbody tr th {\n",
       "        vertical-align: top;\n",
       "    }\n",
       "\n",
       "    .dataframe thead th {\n",
       "        text-align: right;\n",
       "    }\n",
       "</style>\n",
       "<table border=\"1\" class=\"dataframe\">\n",
       "  <thead>\n",
       "    <tr style=\"text-align: right;\">\n",
       "      <th></th>\n",
       "      <th>id</th>\n",
       "      <th>Depression</th>\n",
       "    </tr>\n",
       "  </thead>\n",
       "  <tbody>\n",
       "    <tr>\n",
       "      <th>0</th>\n",
       "      <td>140700</td>\n",
       "      <td>0</td>\n",
       "    </tr>\n",
       "    <tr>\n",
       "      <th>1</th>\n",
       "      <td>140701</td>\n",
       "      <td>0</td>\n",
       "    </tr>\n",
       "    <tr>\n",
       "      <th>2</th>\n",
       "      <td>140702</td>\n",
       "      <td>0</td>\n",
       "    </tr>\n",
       "    <tr>\n",
       "      <th>3</th>\n",
       "      <td>140703</td>\n",
       "      <td>1</td>\n",
       "    </tr>\n",
       "    <tr>\n",
       "      <th>4</th>\n",
       "      <td>140704</td>\n",
       "      <td>0</td>\n",
       "    </tr>\n",
       "    <tr>\n",
       "      <th>5</th>\n",
       "      <td>140705</td>\n",
       "      <td>0</td>\n",
       "    </tr>\n",
       "    <tr>\n",
       "      <th>6</th>\n",
       "      <td>140706</td>\n",
       "      <td>0</td>\n",
       "    </tr>\n",
       "    <tr>\n",
       "      <th>7</th>\n",
       "      <td>140707</td>\n",
       "      <td>0</td>\n",
       "    </tr>\n",
       "    <tr>\n",
       "      <th>8</th>\n",
       "      <td>140708</td>\n",
       "      <td>0</td>\n",
       "    </tr>\n",
       "    <tr>\n",
       "      <th>9</th>\n",
       "      <td>140709</td>\n",
       "      <td>1</td>\n",
       "    </tr>\n",
       "  </tbody>\n",
       "</table>\n",
       "</div>"
      ],
      "text/plain": [
       "       id  Depression\n",
       "0  140700           0\n",
       "1  140701           0\n",
       "2  140702           0\n",
       "3  140703           1\n",
       "4  140704           0\n",
       "5  140705           0\n",
       "6  140706           0\n",
       "7  140707           0\n",
       "8  140708           0\n",
       "9  140709           1"
      ]
     },
     "execution_count": 49,
     "metadata": {},
     "output_type": "execute_result"
    }
   ],
   "source": [
    "test_preds = final_model.predict(test)\n",
    "\n",
    "# Assign the predictions to the 'Depression' column in the sample submission\n",
    "sample_submission['Depression'] = test_preds\n",
    "\n",
    "# Save the final submission file\n",
    "sample_submission.to_csv('submission.csv', index=False)\n",
    "\n",
    "# Preview the submission file to ensure it's structured correctly\n",
    "sample_submission.head(10)"
   ]
  },
  {
   "cell_type": "code",
   "execution_count": 50,
   "id": "a868aedb",
   "metadata": {
    "execution": {
     "iopub.execute_input": "2024-11-13T01:49:29.708824Z",
     "iopub.status.busy": "2024-11-13T01:49:29.708377Z",
     "iopub.status.idle": "2024-11-13T01:49:29.733358Z",
     "shell.execute_reply": "2024-11-13T01:49:29.732256Z"
    },
    "papermill": {
     "duration": 0.056142,
     "end_time": "2024-11-13T01:49:29.735610",
     "exception": false,
     "start_time": "2024-11-13T01:49:29.679468",
     "status": "completed"
    },
    "tags": []
   },
   "outputs": [
    {
     "name": "stdout",
     "output_type": "stream",
     "text": [
      "                               Feature Id  Importances\n",
      "0                                     Age    45.594156\n",
      "1   Have you ever had suicidal thoughts ?    16.998268\n",
      "2                                Pressure     9.530660\n",
      "3                        Financial Stress     7.124144\n",
      "4                            Satisfaction     5.411795\n",
      "5         Working Professional or Student     5.169281\n",
      "6                        Work/Study Hours     3.467582\n",
      "7                          Dietary Habits     2.350677\n",
      "8                              Profession     1.966142\n",
      "9                          Sleep Duration     1.010122\n",
      "10                                 Degree     0.800516\n",
      "11                                   City     0.404493\n",
      "12       Family History of Mental Illness     0.151568\n",
      "13                                 Gender     0.020596\n"
     ]
    }
   ],
   "source": [
    "feature_importances = final_model.get_feature_importance(prettified=True)\n",
    "print(feature_importances)\n",
    "\n",
    "final_model.save_model(\"catboost_final_model.cbm\")"
   ]
  }
 ],
 "metadata": {
  "kaggle": {
   "accelerator": "none",
   "dataSources": [
    {
     "databundleVersionId": 10008389,
     "sourceId": 84895,
     "sourceType": "competition"
    }
   ],
   "dockerImageVersionId": 30786,
   "isGpuEnabled": false,
   "isInternetEnabled": true,
   "language": "python",
   "sourceType": "notebook"
  },
  "kernelspec": {
   "display_name": "Python 3",
   "language": "python",
   "name": "python3"
  },
  "language_info": {
   "codemirror_mode": {
    "name": "ipython",
    "version": 3
   },
   "file_extension": ".py",
   "mimetype": "text/x-python",
   "name": "python",
   "nbconvert_exporter": "python",
   "pygments_lexer": "ipython3",
   "version": "3.10.14"
  },
  "papermill": {
   "default_parameters": {},
   "duration": 5034.593962,
   "end_time": "2024-11-13T01:49:30.585495",
   "environment_variables": {},
   "exception": null,
   "input_path": "__notebook__.ipynb",
   "output_path": "__notebook__.ipynb",
   "parameters": {},
   "start_time": "2024-11-13T00:25:35.991533",
   "version": "2.6.0"
  }
 },
 "nbformat": 4,
 "nbformat_minor": 5
}
